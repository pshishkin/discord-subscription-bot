{
 "cells": [
  {
   "cell_type": "code",
   "execution_count": 1,
   "metadata": {},
   "outputs": [
    {
     "name": "stderr",
     "output_type": "stream",
     "text": [
      "INFO:sqlalchemy.engine.Engine:select pg_catalog.version()\n",
      "INFO:sqlalchemy.engine.Engine:[raw sql] {}\n",
      "INFO:sqlalchemy.engine.Engine:select current_schema()\n",
      "INFO:sqlalchemy.engine.Engine:[raw sql] {}\n",
      "INFO:sqlalchemy.engine.Engine:show standard_conforming_strings\n",
      "INFO:sqlalchemy.engine.Engine:[raw sql] {}\n",
      "INFO:sqlalchemy.engine.Engine:BEGIN (implicit)\n",
      "INFO:sqlalchemy.engine.Engine:select relname from pg_class c join pg_namespace n on n.oid=c.relnamespace where pg_catalog.pg_table_is_visible(c.oid) and relname=%(name)s\n",
      "INFO:sqlalchemy.engine.Engine:[generated in 0.00048s] {'name': 'users'}\n",
      "INFO:sqlalchemy.engine.Engine:select relname from pg_class c join pg_namespace n on n.oid=c.relnamespace where pg_catalog.pg_table_is_visible(c.oid) and relname=%(name)s\n",
      "INFO:sqlalchemy.engine.Engine:[cached since 0.002722s ago] {'name': 'charges'}\n",
      "INFO:sqlalchemy.engine.Engine:select relname from pg_class c join pg_namespace n on n.oid=c.relnamespace where pg_catalog.pg_table_is_visible(c.oid) and relname=%(name)s\n",
      "INFO:sqlalchemy.engine.Engine:[cached since 0.003855s ago] {'name': 'scheduled_user_updates'}\n",
      "INFO:sqlalchemy.engine.Engine:\n",
      "            SELECT EXISTS (\n",
      "                SELECT * FROM pg_catalog.pg_type t\n",
      "                WHERE t.typname = %(typname)s\n",
      "                AND pg_type_is_visible(t.oid)\n",
      "                )\n",
      "                \n",
      "INFO:sqlalchemy.engine.Engine:[generated in 0.00116s] {'typname': 'userstate'}\n",
      "INFO:sqlalchemy.engine.Engine:COMMIT\n",
      "INFO:sqlalchemy.engine.Engine:BEGIN (implicit)\n",
      "INFO:sqlalchemy.engine.Engine:SELECT users.id AS users_id, users.name AS users_name, users.display_name AS users_display_name, users.state AS users_state, users.balance_dev AS users_balance_dev, users.active_subscription_start_ts AS users_active_subscription_start_ts, users.expired_status_started AS users_expired_status_started \n",
      "FROM users\n",
      "INFO:sqlalchemy.engine.Engine:[generated in 0.00281s] {}\n",
      "INFO:sqlalchemy.engine.Engine:DELETE FROM scheduled_user_updates USING users WHERE users.id = %(id_1)s\n",
      "INFO:sqlalchemy.engine.Engine:[generated in 0.00046s] {'id_1': 760060329513451550}\n",
      "INFO:sqlalchemy.engine.Engine:SELECT charges.id AS charges_id, charges.amount AS charges_amount, charges.timestamp AS charges_timestamp, charges.paid_from AS charges_paid_from, charges.paid_till AS charges_paid_till, charges.user_id AS charges_user_id \n",
      "FROM charges \n",
      "WHERE charges.user_id = %(user_id_1)s ORDER BY charges.paid_till DESC \n",
      " LIMIT %(param_1)s\n",
      "INFO:sqlalchemy.engine.Engine:[generated in 0.00042s] {'user_id_1': 760060329513451550, 'param_1': 1}\n",
      "INFO:sqlalchemy.engine.Engine:INSERT INTO scheduled_user_updates (user_id, update_time) VALUES (%(user_id)s, %(update_time)s) RETURNING scheduled_user_updates.id\n",
      "INFO:sqlalchemy.engine.Engine:[generated in 0.00057s] {'user_id': 760060329513451550, 'update_time': datetime.datetime(2022, 6, 29, 13, 13, 44, 40702)}\n",
      "INFO:sqlalchemy.engine.Engine:COMMIT\n",
      "INFO:subscription_bot.updater:starting updater...\n"
     ]
    }
   ],
   "source": [
    "import os\n",
    "import logging\n",
    "import discord\n",
    "from dotenv import load_dotenv\n",
    "from launch_config import LAUNCH_CONFIG_OPTIONS\n",
    "\n",
    "from subscription_bot import ScheduledUpdater, create_bot\n",
    "from dbmananaging import connect_to_db\n",
    "from crypto import Crypto\n",
    "\n",
    "load_dotenv()\n",
    "TOKEN = os.getenv('DISCORD_TOKEN')\n",
    "GUILD = os.getenv('DISCORD_GUILD')\n",
    "DB_CONN_STRING = os.getenv('DB_CONN_STRING')\n",
    "LAUNCH_MODE = os.getenv('LAUNCH_MODE')\n",
    "LAUNCH_CONFIG = LAUNCH_CONFIG_OPTIONS[LAUNCH_MODE]\n",
    "LOGGING_LEVEL = LAUNCH_CONFIG['logging_level']\n",
    "\n",
    "# FORMAT = '%(asctime)s %(message)s'\n",
    "# logging.basicConfig(level=logging.INFO, format=FORMAT)\n",
    "logging.basicConfig(level=logging.INFO)\n",
    "Session = connect_to_db(DB_CONN_STRING, LOGGING_LEVEL)\n",
    "crypto = Crypto(LAUNCH_CONFIG['crypto'])\n",
    "bot = create_bot(GUILD, Session, crypto, LAUNCH_CONFIG)\n",
    "\n"
   ]
  },
  {
   "cell_type": "code",
   "execution_count": null,
   "metadata": {},
   "outputs": [
    {
     "ename": "",
     "evalue": "",
     "output_type": "error",
     "traceback": [
      "\u001b[1;31mFailed to start the Kernel. \n",
      "spawn /conda ENOENT. \n",
      "View Jupyter <a href='command:jupyter.viewOutput'>log</a> for further details."
     ]
    }
   ],
   "source": [
    "bot"
   ]
  },
  {
   "cell_type": "code",
   "execution_count": 2,
   "metadata": {},
   "outputs": [
    {
     "data": {
      "text/plain": [
       "5"
      ]
     },
     "execution_count": 2,
     "metadata": {},
     "output_type": "execute_result"
    }
   ],
   "source": [
    "from datetime import datetime as dt\n",
    "\n",
    "a = dt.now()\n",
    "\n",
    "a.month"
   ]
  },
  {
   "cell_type": "code",
   "execution_count": 3,
   "metadata": {},
   "outputs": [],
   "source": [
    "from datetime import timedelta as td\n",
    "\n",
    "def get_billing_period_end(period_start) -> dt:\n",
    "    period_end = period_start + td(days=25)\n",
    "    while True:\n",
    "        if period_end.day == period_start.day:\n",
    "            break\n",
    "        next_period_end = period_end + td(days=1)\n",
    "        months_diff = next_period_end.month - period_start.month + (next_period_end.year - period_start.year) * 12\n",
    "        if months_diff >= 2:\n",
    "            break\n",
    "        period_end = next_period_end\n",
    "    return period_end\n"
   ]
  },
  {
   "cell_type": "code",
   "execution_count": 4,
   "metadata": {},
   "outputs": [
    {
     "data": {
      "text/plain": [
       "datetime.datetime(2023, 1, 31, 11, 11)"
      ]
     },
     "execution_count": 4,
     "metadata": {},
     "output_type": "execute_result"
    }
   ],
   "source": [
    "get_billing_period_end(dt(2022, 12, 31, 11, 11))"
   ]
  },
  {
   "cell_type": "code",
   "execution_count": 5,
   "metadata": {},
   "outputs": [
    {
     "data": {
      "text/plain": [
       "datetime.datetime(2023, 1, 1, 11, 11)"
      ]
     },
     "execution_count": 5,
     "metadata": {},
     "output_type": "execute_result"
    }
   ],
   "source": [
    "get_billing_period_end(dt(2022, 12, 1, 11, 11))"
   ]
  }
 ],
 "metadata": {
  "interpreter": {
   "hash": "25ae392fe4de71da622a195db60a56961f2ec828412556c8573aa702380772d1"
  },
  "kernelspec": {
   "display_name": "Python 3.10.4 ('py310')",
   "language": "python",
   "name": "python3"
  },
  "language_info": {
   "codemirror_mode": {
    "name": "ipython",
    "version": 3
   },
   "file_extension": ".py",
   "mimetype": "text/x-python",
   "name": "python",
   "nbconvert_exporter": "python",
   "pygments_lexer": "ipython3",
   "version": "3.10.4"
  },
  "orig_nbformat": 4
 },
 "nbformat": 4,
 "nbformat_minor": 2
}
