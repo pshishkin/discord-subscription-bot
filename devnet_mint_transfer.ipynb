{
 "cells": [
  {
   "cell_type": "code",
   "execution_count": 117,
   "metadata": {},
   "outputs": [],
   "source": [
    "import solana.system_program as sp\n",
    "from solana.publickey import PublicKey\n",
    "from solana.keypair import Keypair\n",
    "from solana.account import Account\n",
    "from solana.rpc.api import Client\n",
    "from solana.rpc.async_api import AsyncClient\n",
    "from solana.transaction import Transaction, TransactionInstruction, AccountMeta\n",
    "from spl.token.async_client import AsyncToken\n",
    "from spl.token.constants import TOKEN_PROGRAM_ID\n",
    "from solana.rpc.types import TxOpts\n",
    "\n",
    "from solana.transaction import Transaction, TransactionInstruction\n",
    "from spl.token.instructions import (\n",
    "    initialize_mint,\n",
    "    InitializeMintParams,\n",
    "    initialize_account,\n",
    "    InitializeAccountParams,\n",
    "    mint_to_checked,\n",
    "    MintToCheckedParams,\n",
    "    get_associated_token_address,\n",
    "    create_associated_token_account,\n",
    "    transfer_checked,\n",
    "    TransferCheckedParams,\n",
    ")\n"
   ]
  },
  {
   "cell_type": "code",
   "execution_count": 32,
   "metadata": {},
   "outputs": [],
   "source": [
    "cli = AsyncClient('https://api.devnet.solana.com')"
   ]
  },
  {
   "cell_type": "code",
   "execution_count": 33,
   "metadata": {},
   "outputs": [],
   "source": [
    "kp_mint = Keypair.generate()\n",
    "kp_payer = Keypair.generate()\n",
    "kp_escrow = Keypair.generate()\n",
    "kp_reciever = Keypair.generate()\n",
    "kp_fee_payer = Keypair.generate()\n"
   ]
  },
  {
   "cell_type": "code",
   "execution_count": 135,
   "metadata": {},
   "outputs": [
    {
     "name": "stdout",
     "output_type": "stream",
     "text": [
      "4L9ihc7p7VepgVyKCmSPcQwWPzQB6STVAVpn7gS61hku\n",
      "DDWJiqAoBEQUZRxzS2VPpgWidkhdaStVGa6oxYkC2BMw\n",
      "3qxjtthxJx9DNzssKSyskgyzJYXP9bwjJVMcvosriSgo\n",
      "4sxiJJHi7c3tbq7yEnkbRVtBc3mdtV6AncwsyAr9zPAG\n",
      "F4yF9fdmbcNgiCY4rcp7M8zWSYdGQpa8VYvS6iB9o4jE\n"
     ]
    }
   ],
   "source": [
    "print(kp_mint.public_key)\n",
    "print(kp_payer.public_key)\n",
    "print(kp_escrow.public_key)\n",
    "print(kp_reciever.public_key)\n",
    "print(kp_fee_payer.public_key)"
   ]
  },
  {
   "cell_type": "code",
   "execution_count": 34,
   "metadata": {},
   "outputs": [
    {
     "data": {
      "text/plain": [
       "4L9ihc7p7VepgVyKCmSPcQwWPzQB6STVAVpn7gS61hku"
      ]
     },
     "execution_count": 34,
     "metadata": {},
     "output_type": "execute_result"
    }
   ],
   "source": [
    "kp_mint.public_key"
   ]
  },
  {
   "cell_type": "code",
   "execution_count": 74,
   "metadata": {},
   "outputs": [
    {
     "data": {
      "text/plain": [
       "{'jsonrpc': '2.0',\n",
       " 'result': 'qHto1efHLkPi8Vw97rRxt3nDAPV63XhHDi2y15y9esmqh8NUY4Hp4uAHdyNK67sju7ZecpfXrtTP6VFQdftHjmt',\n",
       " 'id': 89}"
      ]
     },
     "execution_count": 74,
     "metadata": {},
     "output_type": "execute_result"
    }
   ],
   "source": [
    "await cli.request_airdrop(kp_payer.public_key, 100000000)"
   ]
  },
  {
   "cell_type": "code",
   "execution_count": 76,
   "metadata": {},
   "outputs": [
    {
     "data": {
      "text/plain": [
       "{'jsonrpc': '2.0',\n",
       " 'result': '5qBctn7jysVJgCinbaNDEzaT7Rer7ehMYjdhuHzp6CZbnAWF2VPoLeW48zYNjrwTjZ4SCBMyAxQ4vbrYLrKLxTaY',\n",
       " 'id': 91}"
      ]
     },
     "execution_count": 76,
     "metadata": {},
     "output_type": "execute_result"
    }
   ],
   "source": [
    "await cli.request_airdrop(kp_mint.public_key, 100000000)"
   ]
  },
  {
   "cell_type": "code",
   "execution_count": 130,
   "metadata": {},
   "outputs": [
    {
     "data": {
      "text/plain": [
       "{'jsonrpc': '2.0',\n",
       " 'result': 'KXrDhm63DjW6NpNM9yFMyqmtrjMj45vLpkGWPYLKSKe2VweeGA8znZboPKPiEAEQtnKjnDHyVGcsdKgbTTpSxSE',\n",
       " 'id': 168}"
      ]
     },
     "execution_count": 130,
     "metadata": {},
     "output_type": "execute_result"
    }
   ],
   "source": [
    "await cli.request_airdrop(kp_fee_payer.public_key, 100000000)"
   ]
  },
  {
   "cell_type": "code",
   "execution_count": 80,
   "metadata": {},
   "outputs": [
    {
     "data": {
      "text/plain": [
       "{'jsonrpc': '2.0',\n",
       " 'result': {'context': {'slot': 137725624}, 'value': 100980000},\n",
       " 'id': 95}"
      ]
     },
     "execution_count": 80,
     "metadata": {},
     "output_type": "execute_result"
    }
   ],
   "source": [
    "await cli.get_balance(kp_mint.public_key)"
   ]
  },
  {
   "cell_type": "code",
   "execution_count": 81,
   "metadata": {},
   "outputs": [
    {
     "data": {
      "text/plain": [
       "<spl.token.async_client.AsyncToken at 0x7ff331cba170>"
      ]
     },
     "execution_count": 81,
     "metadata": {},
     "output_type": "execute_result"
    }
   ],
   "source": [
    "token = await AsyncToken.create_mint(cli, kp_mint, kp_mint.public_key, 6, TOKEN_PROGRAM_ID, kp_mint.public_key)\n",
    "token"
   ]
  },
  {
   "cell_type": "code",
   "execution_count": 82,
   "metadata": {},
   "outputs": [
    {
     "data": {
      "text/plain": [
       "{'jsonrpc': '2.0',\n",
       " 'result': {'context': {'slot': 137725728}, 'value': 99508400},\n",
       " 'id': 125}"
      ]
     },
     "execution_count": 82,
     "metadata": {},
     "output_type": "execute_result"
    }
   ],
   "source": [
    "await cli.get_balance(kp_mint.public_key)"
   ]
  },
  {
   "cell_type": "code",
   "execution_count": 83,
   "metadata": {},
   "outputs": [
    {
     "data": {
      "text/plain": [
       "ECgBQi1xz9oDAQKzp7rUCjcEExkEVCwoPupKfpiKzgvi"
      ]
     },
     "execution_count": 83,
     "metadata": {},
     "output_type": "execute_result"
    }
   ],
   "source": [
    "token.pubkey"
   ]
  },
  {
   "cell_type": "code",
   "execution_count": 84,
   "metadata": {},
   "outputs": [
    {
     "data": {
      "text/plain": [
       "MintInfo(mint_authority=4L9ihc7p7VepgVyKCmSPcQwWPzQB6STVAVpn7gS61hku, supply=0, decimals=6, is_initialized=True, freeze_authority=4L9ihc7p7VepgVyKCmSPcQwWPzQB6STVAVpn7gS61hku)"
      ]
     },
     "execution_count": 84,
     "metadata": {},
     "output_type": "execute_result"
    }
   ],
   "source": [
    "await token.get_mint_info()"
   ]
  },
  {
   "cell_type": "code",
   "execution_count": 105,
   "metadata": {},
   "outputs": [
    {
     "name": "stdout",
     "output_type": "stream",
     "text": [
      "4L9ihc7p7VepgVyKCmSPcQwWPzQB6STVAVpn7gS61hku\n",
      "ECgBQi1xz9oDAQKzp7rUCjcEExkEVCwoPupKfpiKzgvi\n"
     ]
    },
    {
     "data": {
      "text/plain": [
       "solana.publickey.PublicKey"
      ]
     },
     "execution_count": 105,
     "metadata": {},
     "output_type": "execute_result"
    }
   ],
   "source": [
    "print(kp_mint.public_key)\n",
    "print(token.pubkey)\n",
    "type(token.pubkey)"
   ]
  },
  {
   "cell_type": "code",
   "execution_count": 104,
   "metadata": {},
   "outputs": [
    {
     "data": {
      "text/plain": [
       "7yfkb1K6cj3moWpofCSmgQJpqiB3ZK3bDJ4XVZEMUriw"
      ]
     },
     "execution_count": 104,
     "metadata": {},
     "output_type": "execute_result"
    }
   ],
   "source": [
    "kp_mint_tokaddr = get_associated_token_address(kp_mint.public_key, token.pubkey)\n",
    "kp_mint_tokaddr"
   ]
  },
  {
   "cell_type": "code",
   "execution_count": 98,
   "metadata": {},
   "outputs": [
    {
     "ename": "RPCException",
     "evalue": "{'code': -32002, 'message': 'Transaction simulation failed: Error processing Instruction 0: invalid account data for instruction', 'data': {'accounts': None, 'err': {'InstructionError': [0, 'InvalidAccountData']}, 'logs': ['Program TokenkegQfeZyiNwAJbNbGKPFXCWuBvf9Ss623VQ5DA invoke [1]', 'Program log: Instruction: MintToChecked', 'Program log: Error: InvalidAccountData', 'Program TokenkegQfeZyiNwAJbNbGKPFXCWuBvf9Ss623VQ5DA consumed 1601 of 1400000 compute units', 'Program TokenkegQfeZyiNwAJbNbGKPFXCWuBvf9Ss623VQ5DA failed: invalid account data for instruction'], 'unitsConsumed': 0}}",
     "output_type": "error",
     "traceback": [
      "\u001b[0;31m---------------------------------------------------------------------------\u001b[0m",
      "\u001b[0;31mRPCException\u001b[0m                              Traceback (most recent call last)",
      "\u001b[1;32m/Users/pavel/dev/discord-subscription-bot/devnet_mint_transfer.ipynb Cell 14'\u001b[0m in \u001b[0;36m<cell line: 20>\u001b[0;34m()\u001b[0m\n\u001b[1;32m      <a href='vscode-notebook-cell:/Users/pavel/dev/discord-subscription-bot/devnet_mint_transfer.ipynb#ch0000007?line=6'>7</a>\u001b[0m txn\u001b[39m.\u001b[39madd(\n\u001b[1;32m      <a href='vscode-notebook-cell:/Users/pavel/dev/discord-subscription-bot/devnet_mint_transfer.ipynb#ch0000007?line=7'>8</a>\u001b[0m     mint_to_checked(\n\u001b[1;32m      <a href='vscode-notebook-cell:/Users/pavel/dev/discord-subscription-bot/devnet_mint_transfer.ipynb#ch0000007?line=8'>9</a>\u001b[0m         MintToCheckedParams(\n\u001b[0;32m   (...)\u001b[0m\n\u001b[1;32m     <a href='vscode-notebook-cell:/Users/pavel/dev/discord-subscription-bot/devnet_mint_transfer.ipynb#ch0000007?line=16'>17</a>\u001b[0m     )\n\u001b[1;32m     <a href='vscode-notebook-cell:/Users/pavel/dev/discord-subscription-bot/devnet_mint_transfer.ipynb#ch0000007?line=17'>18</a>\u001b[0m )\n\u001b[1;32m     <a href='vscode-notebook-cell:/Users/pavel/dev/discord-subscription-bot/devnet_mint_transfer.ipynb#ch0000007?line=18'>19</a>\u001b[0m signers \u001b[39m=\u001b[39m [kp_mint]\n\u001b[0;32m---> <a href='vscode-notebook-cell:/Users/pavel/dev/discord-subscription-bot/devnet_mint_transfer.ipynb#ch0000007?line=19'>20</a>\u001b[0m \u001b[39mawait\u001b[39;00m cli\u001b[39m.\u001b[39msend_transaction(txn, \u001b[39m*\u001b[39msigners)\n",
      "File \u001b[0;32m~/opt/anaconda3/envs/py310/lib/python3.10/site-packages/solana/rpc/async_api.py:1275\u001b[0m, in \u001b[0;36mAsyncClient.send_transaction\u001b[0;34m(self, txn, opts, recent_blockhash, *signers)\u001b[0m\n\u001b[1;32m   <a href='file:///Users/pavel/opt/anaconda3/envs/py310/lib/python3.10/site-packages/solana/rpc/async_api.py?line=1271'>1272</a>\u001b[0m txn\u001b[39m.\u001b[39mrecent_blockhash \u001b[39m=\u001b[39m recent_blockhash\n\u001b[1;32m   <a href='file:///Users/pavel/opt/anaconda3/envs/py310/lib/python3.10/site-packages/solana/rpc/async_api.py?line=1273'>1274</a>\u001b[0m txn\u001b[39m.\u001b[39msign(\u001b[39m*\u001b[39msigners)\n\u001b[0;32m-> <a href='file:///Users/pavel/opt/anaconda3/envs/py310/lib/python3.10/site-packages/solana/rpc/async_api.py?line=1274'>1275</a>\u001b[0m txn_resp \u001b[39m=\u001b[39m \u001b[39mawait\u001b[39;00m \u001b[39mself\u001b[39m\u001b[39m.\u001b[39msend_raw_transaction(txn\u001b[39m.\u001b[39mserialize(), opts\u001b[39m=\u001b[39mopts)\n\u001b[1;32m   <a href='file:///Users/pavel/opt/anaconda3/envs/py310/lib/python3.10/site-packages/solana/rpc/async_api.py?line=1275'>1276</a>\u001b[0m \u001b[39mif\u001b[39;00m \u001b[39mself\u001b[39m\u001b[39m.\u001b[39mblockhash_cache:\n\u001b[1;32m   <a href='file:///Users/pavel/opt/anaconda3/envs/py310/lib/python3.10/site-packages/solana/rpc/async_api.py?line=1276'>1277</a>\u001b[0m     blockhash_resp \u001b[39m=\u001b[39m \u001b[39mawait\u001b[39;00m \u001b[39mself\u001b[39m\u001b[39m.\u001b[39mget_recent_blockhash(Finalized)\n",
      "File \u001b[0;32m~/opt/anaconda3/envs/py310/lib/python3.10/site-packages/solana/rpc/async_api.py:1229\u001b[0m, in \u001b[0;36mAsyncClient.send_raw_transaction\u001b[0;34m(self, txn, opts)\u001b[0m\n\u001b[1;32m   <a href='file:///Users/pavel/opt/anaconda3/envs/py310/lib/python3.10/site-packages/solana/rpc/async_api.py?line=1226'>1227</a>\u001b[0m resp \u001b[39m=\u001b[39m \u001b[39mawait\u001b[39;00m \u001b[39mself\u001b[39m\u001b[39m.\u001b[39m_provider\u001b[39m.\u001b[39mmake_request(\u001b[39m*\u001b[39margs)\n\u001b[1;32m   <a href='file:///Users/pavel/opt/anaconda3/envs/py310/lib/python3.10/site-packages/solana/rpc/async_api.py?line=1227'>1228</a>\u001b[0m \u001b[39mif\u001b[39;00m opts\u001b[39m.\u001b[39mskip_confirmation:\n\u001b[0;32m-> <a href='file:///Users/pavel/opt/anaconda3/envs/py310/lib/python3.10/site-packages/solana/rpc/async_api.py?line=1228'>1229</a>\u001b[0m     \u001b[39mreturn\u001b[39;00m \u001b[39mself\u001b[39;49m\u001b[39m.\u001b[39;49m_post_send(resp)\n\u001b[1;32m   <a href='file:///Users/pavel/opt/anaconda3/envs/py310/lib/python3.10/site-packages/solana/rpc/async_api.py?line=1229'>1230</a>\u001b[0m post_send_args \u001b[39m=\u001b[39m \u001b[39mself\u001b[39m\u001b[39m.\u001b[39m_send_raw_transaction_post_send_args(resp, opts)\n\u001b[1;32m   <a href='file:///Users/pavel/opt/anaconda3/envs/py310/lib/python3.10/site-packages/solana/rpc/async_api.py?line=1230'>1231</a>\u001b[0m \u001b[39mreturn\u001b[39;00m \u001b[39mawait\u001b[39;00m \u001b[39mself\u001b[39m\u001b[39m.\u001b[39m__post_send_with_confirm(\u001b[39m*\u001b[39mpost_send_args)\n",
      "File \u001b[0;32m~/opt/anaconda3/envs/py310/lib/python3.10/site-packages/solana/rpc/core.py:418\u001b[0m, in \u001b[0;36m_ClientCore._post_send\u001b[0;34m(resp)\u001b[0m\n\u001b[1;32m    <a href='file:///Users/pavel/opt/anaconda3/envs/py310/lib/python3.10/site-packages/solana/rpc/core.py?line=415'>416</a>\u001b[0m error \u001b[39m=\u001b[39m resp\u001b[39m.\u001b[39mget(\u001b[39m\"\u001b[39m\u001b[39merror\u001b[39m\u001b[39m\"\u001b[39m)\n\u001b[1;32m    <a href='file:///Users/pavel/opt/anaconda3/envs/py310/lib/python3.10/site-packages/solana/rpc/core.py?line=416'>417</a>\u001b[0m \u001b[39mif\u001b[39;00m error:\n\u001b[0;32m--> <a href='file:///Users/pavel/opt/anaconda3/envs/py310/lib/python3.10/site-packages/solana/rpc/core.py?line=417'>418</a>\u001b[0m     \u001b[39mraise\u001b[39;00m RPCException(error)\n\u001b[1;32m    <a href='file:///Users/pavel/opt/anaconda3/envs/py310/lib/python3.10/site-packages/solana/rpc/core.py?line=418'>419</a>\u001b[0m \u001b[39mif\u001b[39;00m \u001b[39mnot\u001b[39;00m resp\u001b[39m.\u001b[39mget(\u001b[39m\"\u001b[39m\u001b[39mresult\u001b[39m\u001b[39m\"\u001b[39m):\n\u001b[1;32m    <a href='file:///Users/pavel/opt/anaconda3/envs/py310/lib/python3.10/site-packages/solana/rpc/core.py?line=419'>420</a>\u001b[0m     \u001b[39mraise\u001b[39;00m RPCNoResultException(\u001b[39m\"\u001b[39m\u001b[39mFailed to send transaction\u001b[39m\u001b[39m\"\u001b[39m)\n",
      "\u001b[0;31mRPCException\u001b[0m: {'code': -32002, 'message': 'Transaction simulation failed: Error processing Instruction 0: invalid account data for instruction', 'data': {'accounts': None, 'err': {'InstructionError': [0, 'InvalidAccountData']}, 'logs': ['Program TokenkegQfeZyiNwAJbNbGKPFXCWuBvf9Ss623VQ5DA invoke [1]', 'Program log: Instruction: MintToChecked', 'Program log: Error: InvalidAccountData', 'Program TokenkegQfeZyiNwAJbNbGKPFXCWuBvf9Ss623VQ5DA consumed 1601 of 1400000 compute units', 'Program TokenkegQfeZyiNwAJbNbGKPFXCWuBvf9Ss623VQ5DA failed: invalid account data for instruction'], 'unitsConsumed': 0}}"
     ]
    }
   ],
   "source": [
    "# , opts={'feePayer': kp_mint}\n",
    "# opts=TxOpts(skip_confirmation=False)\n",
    "# opts=TxOpts(feePayer=kp_mint)\n",
    "# await token.mint_to_checked(kp_payer.public_key, kp_mint.public_key, 1000, 6)\n",
    "\n",
    "txn = Transaction(fee_payer=kp_mint.public_key)\n",
    "txn.add(\n",
    "    mint_to_checked(\n",
    "        MintToCheckedParams(\n",
    "            TOKEN_PROGRAM_ID,\n",
    "            token.pubkey,\n",
    "            kp_mint_tokaddr,\n",
    "            kp_mint.public_key,\n",
    "            10,\n",
    "            6,\n",
    "        )\n",
    "    )\n",
    ")\n",
    "signers = [kp_mint]\n",
    "await cli.send_transaction(txn, *signers)\n",
    "\n"
   ]
  },
  {
   "cell_type": "code",
   "execution_count": 108,
   "metadata": {},
   "outputs": [
    {
     "ename": "RPCException",
     "evalue": "{'code': -32002, 'message': 'Transaction simulation failed: Error processing Instruction 0: custom program error: 0x0', 'data': {'accounts': None, 'err': {'InstructionError': [0, {'Custom': 0}]}, 'logs': ['Program ATokenGPvbdGVxr1b2hvZbsiqW5xWH25efTNsLJA8knL invoke [1]', 'Program log: Create', 'Program 11111111111111111111111111111111 invoke [2]', 'Allocate: account Address { address: 7yfkb1K6cj3moWpofCSmgQJpqiB3ZK3bDJ4XVZEMUriw, base: None } already in use', 'Program 11111111111111111111111111111111 failed: custom program error: 0x0', 'Program ATokenGPvbdGVxr1b2hvZbsiqW5xWH25efTNsLJA8knL consumed 14022 of 1400000 compute units', 'Program ATokenGPvbdGVxr1b2hvZbsiqW5xWH25efTNsLJA8knL failed: custom program error: 0x0'], 'unitsConsumed': 0}}",
     "output_type": "error",
     "traceback": [
      "\u001b[0;31m---------------------------------------------------------------------------\u001b[0m",
      "\u001b[0;31mRPCException\u001b[0m                              Traceback (most recent call last)",
      "\u001b[1;32m/Users/pavel/dev/discord-subscription-bot/devnet_mint_transfer.ipynb Cell 15'\u001b[0m in \u001b[0;36m<cell line: 6>\u001b[0;34m()\u001b[0m\n\u001b[1;32m      <a href='vscode-notebook-cell:/Users/pavel/dev/discord-subscription-bot/devnet_mint_transfer.ipynb#ch0000011?line=1'>2</a>\u001b[0m txn\u001b[39m.\u001b[39madd(\n\u001b[1;32m      <a href='vscode-notebook-cell:/Users/pavel/dev/discord-subscription-bot/devnet_mint_transfer.ipynb#ch0000011?line=2'>3</a>\u001b[0m         create_associated_token_account(kp_mint\u001b[39m.\u001b[39mpublic_key, kp_mint\u001b[39m.\u001b[39mpublic_key, token\u001b[39m.\u001b[39mpubkey)\n\u001b[1;32m      <a href='vscode-notebook-cell:/Users/pavel/dev/discord-subscription-bot/devnet_mint_transfer.ipynb#ch0000011?line=3'>4</a>\u001b[0m     )\n\u001b[1;32m      <a href='vscode-notebook-cell:/Users/pavel/dev/discord-subscription-bot/devnet_mint_transfer.ipynb#ch0000011?line=4'>5</a>\u001b[0m signers \u001b[39m=\u001b[39m [kp_mint]\n\u001b[0;32m----> <a href='vscode-notebook-cell:/Users/pavel/dev/discord-subscription-bot/devnet_mint_transfer.ipynb#ch0000011?line=5'>6</a>\u001b[0m \u001b[39mawait\u001b[39;00m cli\u001b[39m.\u001b[39msend_transaction(txn, \u001b[39m*\u001b[39msigners)\n",
      "File \u001b[0;32m~/opt/anaconda3/envs/py310/lib/python3.10/site-packages/solana/rpc/async_api.py:1275\u001b[0m, in \u001b[0;36mAsyncClient.send_transaction\u001b[0;34m(self, txn, opts, recent_blockhash, *signers)\u001b[0m\n\u001b[1;32m   <a href='file:///Users/pavel/opt/anaconda3/envs/py310/lib/python3.10/site-packages/solana/rpc/async_api.py?line=1271'>1272</a>\u001b[0m txn\u001b[39m.\u001b[39mrecent_blockhash \u001b[39m=\u001b[39m recent_blockhash\n\u001b[1;32m   <a href='file:///Users/pavel/opt/anaconda3/envs/py310/lib/python3.10/site-packages/solana/rpc/async_api.py?line=1273'>1274</a>\u001b[0m txn\u001b[39m.\u001b[39msign(\u001b[39m*\u001b[39msigners)\n\u001b[0;32m-> <a href='file:///Users/pavel/opt/anaconda3/envs/py310/lib/python3.10/site-packages/solana/rpc/async_api.py?line=1274'>1275</a>\u001b[0m txn_resp \u001b[39m=\u001b[39m \u001b[39mawait\u001b[39;00m \u001b[39mself\u001b[39m\u001b[39m.\u001b[39msend_raw_transaction(txn\u001b[39m.\u001b[39mserialize(), opts\u001b[39m=\u001b[39mopts)\n\u001b[1;32m   <a href='file:///Users/pavel/opt/anaconda3/envs/py310/lib/python3.10/site-packages/solana/rpc/async_api.py?line=1275'>1276</a>\u001b[0m \u001b[39mif\u001b[39;00m \u001b[39mself\u001b[39m\u001b[39m.\u001b[39mblockhash_cache:\n\u001b[1;32m   <a href='file:///Users/pavel/opt/anaconda3/envs/py310/lib/python3.10/site-packages/solana/rpc/async_api.py?line=1276'>1277</a>\u001b[0m     blockhash_resp \u001b[39m=\u001b[39m \u001b[39mawait\u001b[39;00m \u001b[39mself\u001b[39m\u001b[39m.\u001b[39mget_recent_blockhash(Finalized)\n",
      "File \u001b[0;32m~/opt/anaconda3/envs/py310/lib/python3.10/site-packages/solana/rpc/async_api.py:1229\u001b[0m, in \u001b[0;36mAsyncClient.send_raw_transaction\u001b[0;34m(self, txn, opts)\u001b[0m\n\u001b[1;32m   <a href='file:///Users/pavel/opt/anaconda3/envs/py310/lib/python3.10/site-packages/solana/rpc/async_api.py?line=1226'>1227</a>\u001b[0m resp \u001b[39m=\u001b[39m \u001b[39mawait\u001b[39;00m \u001b[39mself\u001b[39m\u001b[39m.\u001b[39m_provider\u001b[39m.\u001b[39mmake_request(\u001b[39m*\u001b[39margs)\n\u001b[1;32m   <a href='file:///Users/pavel/opt/anaconda3/envs/py310/lib/python3.10/site-packages/solana/rpc/async_api.py?line=1227'>1228</a>\u001b[0m \u001b[39mif\u001b[39;00m opts\u001b[39m.\u001b[39mskip_confirmation:\n\u001b[0;32m-> <a href='file:///Users/pavel/opt/anaconda3/envs/py310/lib/python3.10/site-packages/solana/rpc/async_api.py?line=1228'>1229</a>\u001b[0m     \u001b[39mreturn\u001b[39;00m \u001b[39mself\u001b[39;49m\u001b[39m.\u001b[39;49m_post_send(resp)\n\u001b[1;32m   <a href='file:///Users/pavel/opt/anaconda3/envs/py310/lib/python3.10/site-packages/solana/rpc/async_api.py?line=1229'>1230</a>\u001b[0m post_send_args \u001b[39m=\u001b[39m \u001b[39mself\u001b[39m\u001b[39m.\u001b[39m_send_raw_transaction_post_send_args(resp, opts)\n\u001b[1;32m   <a href='file:///Users/pavel/opt/anaconda3/envs/py310/lib/python3.10/site-packages/solana/rpc/async_api.py?line=1230'>1231</a>\u001b[0m \u001b[39mreturn\u001b[39;00m \u001b[39mawait\u001b[39;00m \u001b[39mself\u001b[39m\u001b[39m.\u001b[39m__post_send_with_confirm(\u001b[39m*\u001b[39mpost_send_args)\n",
      "File \u001b[0;32m~/opt/anaconda3/envs/py310/lib/python3.10/site-packages/solana/rpc/core.py:418\u001b[0m, in \u001b[0;36m_ClientCore._post_send\u001b[0;34m(resp)\u001b[0m\n\u001b[1;32m    <a href='file:///Users/pavel/opt/anaconda3/envs/py310/lib/python3.10/site-packages/solana/rpc/core.py?line=415'>416</a>\u001b[0m error \u001b[39m=\u001b[39m resp\u001b[39m.\u001b[39mget(\u001b[39m\"\u001b[39m\u001b[39merror\u001b[39m\u001b[39m\"\u001b[39m)\n\u001b[1;32m    <a href='file:///Users/pavel/opt/anaconda3/envs/py310/lib/python3.10/site-packages/solana/rpc/core.py?line=416'>417</a>\u001b[0m \u001b[39mif\u001b[39;00m error:\n\u001b[0;32m--> <a href='file:///Users/pavel/opt/anaconda3/envs/py310/lib/python3.10/site-packages/solana/rpc/core.py?line=417'>418</a>\u001b[0m     \u001b[39mraise\u001b[39;00m RPCException(error)\n\u001b[1;32m    <a href='file:///Users/pavel/opt/anaconda3/envs/py310/lib/python3.10/site-packages/solana/rpc/core.py?line=418'>419</a>\u001b[0m \u001b[39mif\u001b[39;00m \u001b[39mnot\u001b[39;00m resp\u001b[39m.\u001b[39mget(\u001b[39m\"\u001b[39m\u001b[39mresult\u001b[39m\u001b[39m\"\u001b[39m):\n\u001b[1;32m    <a href='file:///Users/pavel/opt/anaconda3/envs/py310/lib/python3.10/site-packages/solana/rpc/core.py?line=419'>420</a>\u001b[0m     \u001b[39mraise\u001b[39;00m RPCNoResultException(\u001b[39m\"\u001b[39m\u001b[39mFailed to send transaction\u001b[39m\u001b[39m\"\u001b[39m)\n",
      "\u001b[0;31mRPCException\u001b[0m: {'code': -32002, 'message': 'Transaction simulation failed: Error processing Instruction 0: custom program error: 0x0', 'data': {'accounts': None, 'err': {'InstructionError': [0, {'Custom': 0}]}, 'logs': ['Program ATokenGPvbdGVxr1b2hvZbsiqW5xWH25efTNsLJA8knL invoke [1]', 'Program log: Create', 'Program 11111111111111111111111111111111 invoke [2]', 'Allocate: account Address { address: 7yfkb1K6cj3moWpofCSmgQJpqiB3ZK3bDJ4XVZEMUriw, base: None } already in use', 'Program 11111111111111111111111111111111 failed: custom program error: 0x0', 'Program ATokenGPvbdGVxr1b2hvZbsiqW5xWH25efTNsLJA8knL consumed 14022 of 1400000 compute units', 'Program ATokenGPvbdGVxr1b2hvZbsiqW5xWH25efTNsLJA8knL failed: custom program error: 0x0'], 'unitsConsumed': 0}}"
     ]
    }
   ],
   "source": [
    "\n",
    "txn = Transaction(fee_payer=kp_mint.public_key)\n",
    "txn.add(\n",
    "        create_associated_token_account(kp_mint.public_key, kp_mint.public_key, token.pubkey)\n",
    "    )\n",
    "signers = [kp_mint]\n",
    "await cli.send_transaction(txn, *signers)\n",
    "\n"
   ]
  },
  {
   "cell_type": "code",
   "execution_count": 109,
   "metadata": {},
   "outputs": [
    {
     "data": {
      "text/plain": [
       "{'jsonrpc': '2.0',\n",
       " 'result': '4pyRT2NNbPPqhxJCMGzzEXh397hvGGYY9qKwv7WZzornfK2YexiEK1Z7JK4mTxmzjKeu8AiUaUWXcwJJJHEi6QSm',\n",
       " 'id': 145}"
      ]
     },
     "execution_count": 109,
     "metadata": {},
     "output_type": "execute_result"
    }
   ],
   "source": [
    "txn = Transaction(fee_payer=kp_mint.public_key)\n",
    "\n",
    "txn.add(\n",
    "    mint_to_checked(\n",
    "        MintToCheckedParams(\n",
    "            TOKEN_PROGRAM_ID,\n",
    "            token.pubkey,\n",
    "            kp_mint_tokaddr,\n",
    "            kp_mint.public_key,\n",
    "            10,\n",
    "            6,\n",
    "        )\n",
    "    )\n",
    ")\n",
    "signers = [kp_mint]\n",
    "await cli.send_transaction(txn, *signers)\n"
   ]
  },
  {
   "cell_type": "code",
   "execution_count": 110,
   "metadata": {},
   "outputs": [
    {
     "ename": "RPCException",
     "evalue": "{'code': -32002, 'message': 'Transaction simulation failed: Error processing Instruction 0: custom program error: 0x0', 'data': {'accounts': None, 'err': {'InstructionError': [0, {'Custom': 0}]}, 'logs': ['Program ATokenGPvbdGVxr1b2hvZbsiqW5xWH25efTNsLJA8knL invoke [1]', 'Program log: Create', 'Program 11111111111111111111111111111111 invoke [2]', 'Allocate: account Address { address: 3pK1T4VdqsXbftbrUip3Ew4RJqVkmhwaMyiBJQBYQFLv, base: None } already in use', 'Program 11111111111111111111111111111111 failed: custom program error: 0x0', 'Program ATokenGPvbdGVxr1b2hvZbsiqW5xWH25efTNsLJA8knL consumed 6608 of 1400000 compute units', 'Program ATokenGPvbdGVxr1b2hvZbsiqW5xWH25efTNsLJA8knL failed: custom program error: 0x0'], 'unitsConsumed': 0}}",
     "output_type": "error",
     "traceback": [
      "\u001b[0;31m---------------------------------------------------------------------------\u001b[0m",
      "\u001b[0;31mRPCException\u001b[0m                              Traceback (most recent call last)",
      "\u001b[1;32m/Users/pavel/dev/discord-subscription-bot/devnet_mint_transfer.ipynb Cell 17'\u001b[0m in \u001b[0;36m<cell line: 6>\u001b[0;34m()\u001b[0m\n\u001b[1;32m      <a href='vscode-notebook-cell:/Users/pavel/dev/discord-subscription-bot/devnet_mint_transfer.ipynb#ch0000017?line=1'>2</a>\u001b[0m txn\u001b[39m.\u001b[39madd(\n\u001b[1;32m      <a href='vscode-notebook-cell:/Users/pavel/dev/discord-subscription-bot/devnet_mint_transfer.ipynb#ch0000017?line=2'>3</a>\u001b[0m         create_associated_token_account(kp_mint\u001b[39m.\u001b[39mpublic_key, kp_payer\u001b[39m.\u001b[39mpublic_key, token\u001b[39m.\u001b[39mpubkey)\n\u001b[1;32m      <a href='vscode-notebook-cell:/Users/pavel/dev/discord-subscription-bot/devnet_mint_transfer.ipynb#ch0000017?line=3'>4</a>\u001b[0m     )\n\u001b[1;32m      <a href='vscode-notebook-cell:/Users/pavel/dev/discord-subscription-bot/devnet_mint_transfer.ipynb#ch0000017?line=4'>5</a>\u001b[0m signers \u001b[39m=\u001b[39m [kp_mint]\n\u001b[0;32m----> <a href='vscode-notebook-cell:/Users/pavel/dev/discord-subscription-bot/devnet_mint_transfer.ipynb#ch0000017?line=5'>6</a>\u001b[0m \u001b[39mawait\u001b[39;00m cli\u001b[39m.\u001b[39msend_transaction(txn, \u001b[39m*\u001b[39msigners)\n",
      "File \u001b[0;32m~/opt/anaconda3/envs/py310/lib/python3.10/site-packages/solana/rpc/async_api.py:1275\u001b[0m, in \u001b[0;36mAsyncClient.send_transaction\u001b[0;34m(self, txn, opts, recent_blockhash, *signers)\u001b[0m\n\u001b[1;32m   <a href='file:///Users/pavel/opt/anaconda3/envs/py310/lib/python3.10/site-packages/solana/rpc/async_api.py?line=1271'>1272</a>\u001b[0m txn\u001b[39m.\u001b[39mrecent_blockhash \u001b[39m=\u001b[39m recent_blockhash\n\u001b[1;32m   <a href='file:///Users/pavel/opt/anaconda3/envs/py310/lib/python3.10/site-packages/solana/rpc/async_api.py?line=1273'>1274</a>\u001b[0m txn\u001b[39m.\u001b[39msign(\u001b[39m*\u001b[39msigners)\n\u001b[0;32m-> <a href='file:///Users/pavel/opt/anaconda3/envs/py310/lib/python3.10/site-packages/solana/rpc/async_api.py?line=1274'>1275</a>\u001b[0m txn_resp \u001b[39m=\u001b[39m \u001b[39mawait\u001b[39;00m \u001b[39mself\u001b[39m\u001b[39m.\u001b[39msend_raw_transaction(txn\u001b[39m.\u001b[39mserialize(), opts\u001b[39m=\u001b[39mopts)\n\u001b[1;32m   <a href='file:///Users/pavel/opt/anaconda3/envs/py310/lib/python3.10/site-packages/solana/rpc/async_api.py?line=1275'>1276</a>\u001b[0m \u001b[39mif\u001b[39;00m \u001b[39mself\u001b[39m\u001b[39m.\u001b[39mblockhash_cache:\n\u001b[1;32m   <a href='file:///Users/pavel/opt/anaconda3/envs/py310/lib/python3.10/site-packages/solana/rpc/async_api.py?line=1276'>1277</a>\u001b[0m     blockhash_resp \u001b[39m=\u001b[39m \u001b[39mawait\u001b[39;00m \u001b[39mself\u001b[39m\u001b[39m.\u001b[39mget_recent_blockhash(Finalized)\n",
      "File \u001b[0;32m~/opt/anaconda3/envs/py310/lib/python3.10/site-packages/solana/rpc/async_api.py:1229\u001b[0m, in \u001b[0;36mAsyncClient.send_raw_transaction\u001b[0;34m(self, txn, opts)\u001b[0m\n\u001b[1;32m   <a href='file:///Users/pavel/opt/anaconda3/envs/py310/lib/python3.10/site-packages/solana/rpc/async_api.py?line=1226'>1227</a>\u001b[0m resp \u001b[39m=\u001b[39m \u001b[39mawait\u001b[39;00m \u001b[39mself\u001b[39m\u001b[39m.\u001b[39m_provider\u001b[39m.\u001b[39mmake_request(\u001b[39m*\u001b[39margs)\n\u001b[1;32m   <a href='file:///Users/pavel/opt/anaconda3/envs/py310/lib/python3.10/site-packages/solana/rpc/async_api.py?line=1227'>1228</a>\u001b[0m \u001b[39mif\u001b[39;00m opts\u001b[39m.\u001b[39mskip_confirmation:\n\u001b[0;32m-> <a href='file:///Users/pavel/opt/anaconda3/envs/py310/lib/python3.10/site-packages/solana/rpc/async_api.py?line=1228'>1229</a>\u001b[0m     \u001b[39mreturn\u001b[39;00m \u001b[39mself\u001b[39;49m\u001b[39m.\u001b[39;49m_post_send(resp)\n\u001b[1;32m   <a href='file:///Users/pavel/opt/anaconda3/envs/py310/lib/python3.10/site-packages/solana/rpc/async_api.py?line=1229'>1230</a>\u001b[0m post_send_args \u001b[39m=\u001b[39m \u001b[39mself\u001b[39m\u001b[39m.\u001b[39m_send_raw_transaction_post_send_args(resp, opts)\n\u001b[1;32m   <a href='file:///Users/pavel/opt/anaconda3/envs/py310/lib/python3.10/site-packages/solana/rpc/async_api.py?line=1230'>1231</a>\u001b[0m \u001b[39mreturn\u001b[39;00m \u001b[39mawait\u001b[39;00m \u001b[39mself\u001b[39m\u001b[39m.\u001b[39m__post_send_with_confirm(\u001b[39m*\u001b[39mpost_send_args)\n",
      "File \u001b[0;32m~/opt/anaconda3/envs/py310/lib/python3.10/site-packages/solana/rpc/core.py:418\u001b[0m, in \u001b[0;36m_ClientCore._post_send\u001b[0;34m(resp)\u001b[0m\n\u001b[1;32m    <a href='file:///Users/pavel/opt/anaconda3/envs/py310/lib/python3.10/site-packages/solana/rpc/core.py?line=415'>416</a>\u001b[0m error \u001b[39m=\u001b[39m resp\u001b[39m.\u001b[39mget(\u001b[39m\"\u001b[39m\u001b[39merror\u001b[39m\u001b[39m\"\u001b[39m)\n\u001b[1;32m    <a href='file:///Users/pavel/opt/anaconda3/envs/py310/lib/python3.10/site-packages/solana/rpc/core.py?line=416'>417</a>\u001b[0m \u001b[39mif\u001b[39;00m error:\n\u001b[0;32m--> <a href='file:///Users/pavel/opt/anaconda3/envs/py310/lib/python3.10/site-packages/solana/rpc/core.py?line=417'>418</a>\u001b[0m     \u001b[39mraise\u001b[39;00m RPCException(error)\n\u001b[1;32m    <a href='file:///Users/pavel/opt/anaconda3/envs/py310/lib/python3.10/site-packages/solana/rpc/core.py?line=418'>419</a>\u001b[0m \u001b[39mif\u001b[39;00m \u001b[39mnot\u001b[39;00m resp\u001b[39m.\u001b[39mget(\u001b[39m\"\u001b[39m\u001b[39mresult\u001b[39m\u001b[39m\"\u001b[39m):\n\u001b[1;32m    <a href='file:///Users/pavel/opt/anaconda3/envs/py310/lib/python3.10/site-packages/solana/rpc/core.py?line=419'>420</a>\u001b[0m     \u001b[39mraise\u001b[39;00m RPCNoResultException(\u001b[39m\"\u001b[39m\u001b[39mFailed to send transaction\u001b[39m\u001b[39m\"\u001b[39m)\n",
      "\u001b[0;31mRPCException\u001b[0m: {'code': -32002, 'message': 'Transaction simulation failed: Error processing Instruction 0: custom program error: 0x0', 'data': {'accounts': None, 'err': {'InstructionError': [0, {'Custom': 0}]}, 'logs': ['Program ATokenGPvbdGVxr1b2hvZbsiqW5xWH25efTNsLJA8knL invoke [1]', 'Program log: Create', 'Program 11111111111111111111111111111111 invoke [2]', 'Allocate: account Address { address: 3pK1T4VdqsXbftbrUip3Ew4RJqVkmhwaMyiBJQBYQFLv, base: None } already in use', 'Program 11111111111111111111111111111111 failed: custom program error: 0x0', 'Program ATokenGPvbdGVxr1b2hvZbsiqW5xWH25efTNsLJA8knL consumed 6608 of 1400000 compute units', 'Program ATokenGPvbdGVxr1b2hvZbsiqW5xWH25efTNsLJA8knL failed: custom program error: 0x0'], 'unitsConsumed': 0}}"
     ]
    }
   ],
   "source": [
    "\n",
    "txn = Transaction(fee_payer=kp_mint.public_key)\n",
    "txn.add(\n",
    "        create_associated_token_account(kp_mint.public_key, kp_payer.public_key, token.pubkey)\n",
    "    )\n",
    "signers = [kp_mint]\n",
    "await cli.send_transaction(txn, *signers)\n",
    "\n"
   ]
  },
  {
   "cell_type": "code",
   "execution_count": 111,
   "metadata": {},
   "outputs": [
    {
     "data": {
      "text/plain": [
       "{'jsonrpc': '2.0',\n",
       " 'result': '66BEhqDQLkBcQh9T58DoGGzNhGJ1gPpvMHoNsH6Ha4BwqE7DPWiqNWbw37hTPrDquLxJCZHAE5LNXE2oiDoqZ8DH',\n",
       " 'id': 149}"
      ]
     },
     "execution_count": 111,
     "metadata": {},
     "output_type": "execute_result"
    }
   ],
   "source": [
    "kp_payer_tokaddr = get_associated_token_address(kp_payer.public_key, token.pubkey)\n",
    "\n",
    "\n",
    "txn = Transaction(fee_payer=kp_mint.public_key)\n",
    "\n",
    "txn.add(\n",
    "    mint_to_checked(\n",
    "        MintToCheckedParams(\n",
    "            TOKEN_PROGRAM_ID,\n",
    "            token.pubkey,\n",
    "            kp_payer_tokaddr,\n",
    "            kp_mint.public_key,\n",
    "            10,\n",
    "            6,\n",
    "        )\n",
    "    )\n",
    ")\n",
    "signers = [kp_mint]\n",
    "await cli.send_transaction(txn, *signers)\n"
   ]
  },
  {
   "cell_type": "code",
   "execution_count": 112,
   "metadata": {},
   "outputs": [
    {
     "data": {
      "text/plain": [
       "{'jsonrpc': '2.0',\n",
       " 'result': {'context': {'slot': 137737078},\n",
       "  'value': [{'account': {'data': {'parsed': {'info': {'isNative': False,\n",
       "        'mint': 'ECgBQi1xz9oDAQKzp7rUCjcEExkEVCwoPupKfpiKzgvi',\n",
       "        'owner': 'DDWJiqAoBEQUZRxzS2VPpgWidkhdaStVGa6oxYkC2BMw',\n",
       "        'state': 'initialized',\n",
       "        'tokenAmount': {'amount': '10',\n",
       "         'decimals': 6,\n",
       "         'uiAmount': 1e-05,\n",
       "         'uiAmountString': '0.00001'}},\n",
       "       'type': 'account'},\n",
       "      'program': 'spl-token',\n",
       "      'space': 165},\n",
       "     'executable': False,\n",
       "     'lamports': 2039280,\n",
       "     'owner': 'TokenkegQfeZyiNwAJbNbGKPFXCWuBvf9Ss623VQ5DA',\n",
       "     'rentEpoch': 318},\n",
       "    'pubkey': '3pK1T4VdqsXbftbrUip3Ew4RJqVkmhwaMyiBJQBYQFLv'}]},\n",
       " 'id': 150}"
      ]
     },
     "execution_count": 112,
     "metadata": {},
     "output_type": "execute_result"
    }
   ],
   "source": [
    "# here we can see the balance\n",
    "\n",
    "await token.get_accounts(kp_payer.public_key)\n"
   ]
  },
  {
   "cell_type": "code",
   "execution_count": 113,
   "metadata": {},
   "outputs": [
    {
     "data": {
      "text/plain": [
       "{'jsonrpc': '2.0',\n",
       " 'result': 'kUVtazjgyi4ktDAhtJj3b4z6RE46hBw6CEDRBPFamhRPbun6fPd8qzVE8xSft9A7D3mFcqM2Y5NqVjsoD8HNKX5',\n",
       " 'id': 152}"
      ]
     },
     "execution_count": 113,
     "metadata": {},
     "output_type": "execute_result"
    }
   ],
   "source": [
    "txn = Transaction(fee_payer=kp_mint.public_key)\n",
    "txn.add(\n",
    "        create_associated_token_account(kp_mint.public_key, kp_reciever.public_key, token.pubkey)\n",
    "    )\n",
    "signers = [kp_mint]\n",
    "await cli.send_transaction(txn, *signers)\n"
   ]
  },
  {
   "cell_type": "code",
   "execution_count": 114,
   "metadata": {},
   "outputs": [
    {
     "data": {
      "text/plain": [
       "{'jsonrpc': '2.0',\n",
       " 'result': '2szSyfmnfxv2m1JdNXSG6vYTBNL4hxyWPT8xUZhW2jNKuoArC9gpKu47fAPyLbzMSir6t5AMauSRN7E5anpaMJBJ',\n",
       " 'id': 154}"
      ]
     },
     "execution_count": 114,
     "metadata": {},
     "output_type": "execute_result"
    }
   ],
   "source": [
    "txn = Transaction(fee_payer=kp_mint.public_key)\n",
    "txn.add(\n",
    "        create_associated_token_account(kp_mint.public_key, kp_escrow.public_key, token.pubkey)\n",
    "    )\n",
    "signers = [kp_mint]\n",
    "await cli.send_transaction(txn, *signers)\n"
   ]
  },
  {
   "cell_type": "code",
   "execution_count": 123,
   "metadata": {},
   "outputs": [
    {
     "data": {
      "text/plain": [
       "DDWJiqAoBEQUZRxzS2VPpgWidkhdaStVGa6oxYkC2BMw"
      ]
     },
     "execution_count": 123,
     "metadata": {},
     "output_type": "execute_result"
    }
   ],
   "source": [
    "kp_payer.public_key"
   ]
  },
  {
   "cell_type": "code",
   "execution_count": 125,
   "metadata": {},
   "outputs": [
    {
     "data": {
      "text/plain": [
       "{'jsonrpc': '2.0',\n",
       " 'result': '3R9FfyBbXeTH5hE8yaXU4NTuiBcyZEj2AqBs9UJu9AtyKANGZJ5iXGSJysMqMh6RxQopeq6LgKK6hSXooMHQtXnp',\n",
       " 'id': 160}"
      ]
     },
     "execution_count": 125,
     "metadata": {},
     "output_type": "execute_result"
    }
   ],
   "source": [
    "\n",
    "txn = Transaction(fee_payer=kp_payer.public_key)\n",
    "\n",
    "txn.add(\n",
    "    transfer_checked(\n",
    "        TransferCheckedParams(\n",
    "            program_id=TOKEN_PROGRAM_ID,\n",
    "            source=get_associated_token_address(kp_payer.public_key, token.pubkey),\n",
    "            mint=token.pubkey,\n",
    "            dest=get_associated_token_address(kp_escrow.public_key, token.pubkey),\n",
    "            owner=kp_payer.public_key,\n",
    "            amount=12,\n",
    "            decimals=6\n",
    "        )\n",
    "    )\n",
    ")\n",
    "signers = [kp_payer]\n",
    "await cli.send_transaction(txn, *signers)\n"
   ]
  },
  {
   "cell_type": "code",
   "execution_count": 126,
   "metadata": {},
   "outputs": [
    {
     "ename": "RPCException",
     "evalue": "{'code': -32002, 'message': 'Transaction simulation failed: Error processing Instruction 0: custom program error: 0x1', 'data': {'accounts': None, 'err': {'InstructionError': [0, {'Custom': 1}]}, 'logs': ['Program TokenkegQfeZyiNwAJbNbGKPFXCWuBvf9Ss623VQ5DA invoke [1]', 'Program log: Instruction: TransferChecked', 'Program log: Error: insufficient funds', 'Program TokenkegQfeZyiNwAJbNbGKPFXCWuBvf9Ss623VQ5DA consumed 2827 of 1400000 compute units', 'Program TokenkegQfeZyiNwAJbNbGKPFXCWuBvf9Ss623VQ5DA failed: custom program error: 0x1'], 'unitsConsumed': 0}}",
     "output_type": "error",
     "traceback": [
      "\u001b[0;31m---------------------------------------------------------------------------\u001b[0m",
      "\u001b[0;31mRPCException\u001b[0m                              Traceback (most recent call last)",
      "\u001b[1;32m/Users/pavel/dev/discord-subscription-bot/devnet_mint_transfer.ipynb Cell 24'\u001b[0m in \u001b[0;36m<cell line: 17>\u001b[0;34m()\u001b[0m\n\u001b[1;32m      <a href='vscode-notebook-cell:/Users/pavel/dev/discord-subscription-bot/devnet_mint_transfer.ipynb#ch0000023?line=2'>3</a>\u001b[0m txn\u001b[39m.\u001b[39madd(\n\u001b[1;32m      <a href='vscode-notebook-cell:/Users/pavel/dev/discord-subscription-bot/devnet_mint_transfer.ipynb#ch0000023?line=3'>4</a>\u001b[0m     transfer_checked(\n\u001b[1;32m      <a href='vscode-notebook-cell:/Users/pavel/dev/discord-subscription-bot/devnet_mint_transfer.ipynb#ch0000023?line=4'>5</a>\u001b[0m         TransferCheckedParams(\n\u001b[0;32m   (...)\u001b[0m\n\u001b[1;32m     <a href='vscode-notebook-cell:/Users/pavel/dev/discord-subscription-bot/devnet_mint_transfer.ipynb#ch0000023?line=13'>14</a>\u001b[0m     )\n\u001b[1;32m     <a href='vscode-notebook-cell:/Users/pavel/dev/discord-subscription-bot/devnet_mint_transfer.ipynb#ch0000023?line=14'>15</a>\u001b[0m )\n\u001b[1;32m     <a href='vscode-notebook-cell:/Users/pavel/dev/discord-subscription-bot/devnet_mint_transfer.ipynb#ch0000023?line=15'>16</a>\u001b[0m signers \u001b[39m=\u001b[39m [kp_payer]\n\u001b[0;32m---> <a href='vscode-notebook-cell:/Users/pavel/dev/discord-subscription-bot/devnet_mint_transfer.ipynb#ch0000023?line=16'>17</a>\u001b[0m \u001b[39mawait\u001b[39;00m cli\u001b[39m.\u001b[39msend_transaction(txn, \u001b[39m*\u001b[39msigners)\n",
      "File \u001b[0;32m~/opt/anaconda3/envs/py310/lib/python3.10/site-packages/solana/rpc/async_api.py:1275\u001b[0m, in \u001b[0;36mAsyncClient.send_transaction\u001b[0;34m(self, txn, opts, recent_blockhash, *signers)\u001b[0m\n\u001b[1;32m   <a href='file:///Users/pavel/opt/anaconda3/envs/py310/lib/python3.10/site-packages/solana/rpc/async_api.py?line=1271'>1272</a>\u001b[0m txn\u001b[39m.\u001b[39mrecent_blockhash \u001b[39m=\u001b[39m recent_blockhash\n\u001b[1;32m   <a href='file:///Users/pavel/opt/anaconda3/envs/py310/lib/python3.10/site-packages/solana/rpc/async_api.py?line=1273'>1274</a>\u001b[0m txn\u001b[39m.\u001b[39msign(\u001b[39m*\u001b[39msigners)\n\u001b[0;32m-> <a href='file:///Users/pavel/opt/anaconda3/envs/py310/lib/python3.10/site-packages/solana/rpc/async_api.py?line=1274'>1275</a>\u001b[0m txn_resp \u001b[39m=\u001b[39m \u001b[39mawait\u001b[39;00m \u001b[39mself\u001b[39m\u001b[39m.\u001b[39msend_raw_transaction(txn\u001b[39m.\u001b[39mserialize(), opts\u001b[39m=\u001b[39mopts)\n\u001b[1;32m   <a href='file:///Users/pavel/opt/anaconda3/envs/py310/lib/python3.10/site-packages/solana/rpc/async_api.py?line=1275'>1276</a>\u001b[0m \u001b[39mif\u001b[39;00m \u001b[39mself\u001b[39m\u001b[39m.\u001b[39mblockhash_cache:\n\u001b[1;32m   <a href='file:///Users/pavel/opt/anaconda3/envs/py310/lib/python3.10/site-packages/solana/rpc/async_api.py?line=1276'>1277</a>\u001b[0m     blockhash_resp \u001b[39m=\u001b[39m \u001b[39mawait\u001b[39;00m \u001b[39mself\u001b[39m\u001b[39m.\u001b[39mget_recent_blockhash(Finalized)\n",
      "File \u001b[0;32m~/opt/anaconda3/envs/py310/lib/python3.10/site-packages/solana/rpc/async_api.py:1229\u001b[0m, in \u001b[0;36mAsyncClient.send_raw_transaction\u001b[0;34m(self, txn, opts)\u001b[0m\n\u001b[1;32m   <a href='file:///Users/pavel/opt/anaconda3/envs/py310/lib/python3.10/site-packages/solana/rpc/async_api.py?line=1226'>1227</a>\u001b[0m resp \u001b[39m=\u001b[39m \u001b[39mawait\u001b[39;00m \u001b[39mself\u001b[39m\u001b[39m.\u001b[39m_provider\u001b[39m.\u001b[39mmake_request(\u001b[39m*\u001b[39margs)\n\u001b[1;32m   <a href='file:///Users/pavel/opt/anaconda3/envs/py310/lib/python3.10/site-packages/solana/rpc/async_api.py?line=1227'>1228</a>\u001b[0m \u001b[39mif\u001b[39;00m opts\u001b[39m.\u001b[39mskip_confirmation:\n\u001b[0;32m-> <a href='file:///Users/pavel/opt/anaconda3/envs/py310/lib/python3.10/site-packages/solana/rpc/async_api.py?line=1228'>1229</a>\u001b[0m     \u001b[39mreturn\u001b[39;00m \u001b[39mself\u001b[39;49m\u001b[39m.\u001b[39;49m_post_send(resp)\n\u001b[1;32m   <a href='file:///Users/pavel/opt/anaconda3/envs/py310/lib/python3.10/site-packages/solana/rpc/async_api.py?line=1229'>1230</a>\u001b[0m post_send_args \u001b[39m=\u001b[39m \u001b[39mself\u001b[39m\u001b[39m.\u001b[39m_send_raw_transaction_post_send_args(resp, opts)\n\u001b[1;32m   <a href='file:///Users/pavel/opt/anaconda3/envs/py310/lib/python3.10/site-packages/solana/rpc/async_api.py?line=1230'>1231</a>\u001b[0m \u001b[39mreturn\u001b[39;00m \u001b[39mawait\u001b[39;00m \u001b[39mself\u001b[39m\u001b[39m.\u001b[39m__post_send_with_confirm(\u001b[39m*\u001b[39mpost_send_args)\n",
      "File \u001b[0;32m~/opt/anaconda3/envs/py310/lib/python3.10/site-packages/solana/rpc/core.py:418\u001b[0m, in \u001b[0;36m_ClientCore._post_send\u001b[0;34m(resp)\u001b[0m\n\u001b[1;32m    <a href='file:///Users/pavel/opt/anaconda3/envs/py310/lib/python3.10/site-packages/solana/rpc/core.py?line=415'>416</a>\u001b[0m error \u001b[39m=\u001b[39m resp\u001b[39m.\u001b[39mget(\u001b[39m\"\u001b[39m\u001b[39merror\u001b[39m\u001b[39m\"\u001b[39m)\n\u001b[1;32m    <a href='file:///Users/pavel/opt/anaconda3/envs/py310/lib/python3.10/site-packages/solana/rpc/core.py?line=416'>417</a>\u001b[0m \u001b[39mif\u001b[39;00m error:\n\u001b[0;32m--> <a href='file:///Users/pavel/opt/anaconda3/envs/py310/lib/python3.10/site-packages/solana/rpc/core.py?line=417'>418</a>\u001b[0m     \u001b[39mraise\u001b[39;00m RPCException(error)\n\u001b[1;32m    <a href='file:///Users/pavel/opt/anaconda3/envs/py310/lib/python3.10/site-packages/solana/rpc/core.py?line=418'>419</a>\u001b[0m \u001b[39mif\u001b[39;00m \u001b[39mnot\u001b[39;00m resp\u001b[39m.\u001b[39mget(\u001b[39m\"\u001b[39m\u001b[39mresult\u001b[39m\u001b[39m\"\u001b[39m):\n\u001b[1;32m    <a href='file:///Users/pavel/opt/anaconda3/envs/py310/lib/python3.10/site-packages/solana/rpc/core.py?line=419'>420</a>\u001b[0m     \u001b[39mraise\u001b[39;00m RPCNoResultException(\u001b[39m\"\u001b[39m\u001b[39mFailed to send transaction\u001b[39m\u001b[39m\"\u001b[39m)\n",
      "\u001b[0;31mRPCException\u001b[0m: {'code': -32002, 'message': 'Transaction simulation failed: Error processing Instruction 0: custom program error: 0x1', 'data': {'accounts': None, 'err': {'InstructionError': [0, {'Custom': 1}]}, 'logs': ['Program TokenkegQfeZyiNwAJbNbGKPFXCWuBvf9Ss623VQ5DA invoke [1]', 'Program log: Instruction: TransferChecked', 'Program log: Error: insufficient funds', 'Program TokenkegQfeZyiNwAJbNbGKPFXCWuBvf9Ss623VQ5DA consumed 2827 of 1400000 compute units', 'Program TokenkegQfeZyiNwAJbNbGKPFXCWuBvf9Ss623VQ5DA failed: custom program error: 0x1'], 'unitsConsumed': 0}}"
     ]
    }
   ],
   "source": [
    "\n",
    "txn = Transaction(fee_payer=kp_payer.public_key)\n",
    "\n",
    "txn.add(\n",
    "    transfer_checked(\n",
    "        TransferCheckedParams(\n",
    "            program_id=TOKEN_PROGRAM_ID,\n",
    "            source=get_associated_token_address(kp_payer.public_key, token.pubkey),\n",
    "            mint=token.pubkey,\n",
    "            dest=get_associated_token_address(kp_escrow.public_key, token.pubkey),\n",
    "            owner=kp_payer.public_key,\n",
    "            amount=12,\n",
    "            decimals=6\n",
    "        )\n",
    "    )\n",
    ")\n",
    "signers = [kp_payer]\n",
    "await cli.send_transaction(txn, *signers)\n",
    "\n",
    "# failed — too big amount"
   ]
  },
  {
   "cell_type": "code",
   "execution_count": 128,
   "metadata": {},
   "outputs": [
    {
     "data": {
      "text/plain": [
       "{'jsonrpc': '2.0',\n",
       " 'result': '2UCcqK3YLgFDcSQLXPJxzyHNwtcNcN7CU1VLZpAbMAb4KNPL84EwcHjdkCGDLBxeTjx6SFmp8nspHCgYosd5f33W',\n",
       " 'id': 165}"
      ]
     },
     "execution_count": 128,
     "metadata": {},
     "output_type": "execute_result"
    }
   ],
   "source": [
    "\n",
    "txn = Transaction(fee_payer=kp_payer.public_key)\n",
    "\n",
    "txn.add(\n",
    "    transfer_checked(\n",
    "        TransferCheckedParams(\n",
    "            program_id=TOKEN_PROGRAM_ID,\n",
    "            source=get_associated_token_address(kp_payer.public_key, token.pubkey),\n",
    "            mint=token.pubkey,\n",
    "            dest=get_associated_token_address(kp_escrow.public_key, token.pubkey),\n",
    "            owner=kp_payer.public_key,\n",
    "            amount=1,\n",
    "            decimals=6\n",
    "        )\n",
    "    )\n",
    ")\n",
    "\n",
    "txn.add(\n",
    "    transfer_checked(\n",
    "        TransferCheckedParams(\n",
    "            program_id=TOKEN_PROGRAM_ID,\n",
    "            source=get_associated_token_address(kp_payer.public_key, token.pubkey),\n",
    "            mint=token.pubkey,\n",
    "            dest=get_associated_token_address(kp_reciever.public_key, token.pubkey),\n",
    "            owner=kp_payer.public_key,\n",
    "            amount=1,\n",
    "            decimals=6\n",
    "        )\n",
    "    )\n",
    ")\n",
    "\n",
    "\n",
    "signers = [kp_payer]\n",
    "await cli.send_transaction(txn, *signers)\n",
    "\n"
   ]
  },
  {
   "cell_type": "code",
   "execution_count": 137,
   "metadata": {},
   "outputs": [
    {
     "data": {
      "text/plain": [
       "{'jsonrpc': '2.0',\n",
       " 'result': '2MurL5W6UWovyN99feGoyLobBWDCkJwqcyjKd2zXsMdniTnFtMbEGKcSVUpvi6ChRf2AjHtUyviQKPr1gcXeYGDB',\n",
       " 'id': 178}"
      ]
     },
     "execution_count": 137,
     "metadata": {},
     "output_type": "execute_result"
    }
   ],
   "source": [
    "# fee payer and owner are different\n",
    "\n",
    "txn = Transaction(fee_payer=kp_fee_payer.public_key)\n",
    "\n",
    "txn.add(\n",
    "    transfer_checked(\n",
    "        TransferCheckedParams(\n",
    "            program_id=TOKEN_PROGRAM_ID,\n",
    "            source=get_associated_token_address(kp_payer.public_key, token.pubkey),\n",
    "            mint=token.pubkey,\n",
    "            dest=get_associated_token_address(kp_escrow.public_key, token.pubkey),\n",
    "            owner=kp_payer.public_key,\n",
    "            amount=1,\n",
    "            decimals=6\n",
    "        )\n",
    "    )\n",
    ")\n",
    "signers = [kp_fee_payer, kp_payer]\n",
    "await cli.send_transaction(txn, *signers)\n",
    "\n"
   ]
  },
  {
   "cell_type": "code",
   "execution_count": 134,
   "metadata": {},
   "outputs": [
    {
     "data": {
      "text/plain": [
       "{'jsonrpc': '2.0',\n",
       " 'result': '5pxMLsXicC7scvE1b7cJcvwU3okRdW6vxs5s1LzTnmutdBavhsCaGbKSxzd8DCUm9n8aTpHNp2uxvd12HN5QUzME',\n",
       " 'id': 174}"
      ]
     },
     "execution_count": 134,
     "metadata": {},
     "output_type": "execute_result"
    }
   ],
   "source": [
    "\n",
    "txn = Transaction(fee_payer=kp_fee_payer.public_key)\n",
    "\n",
    "txn.add(\n",
    "    transfer_checked(\n",
    "        TransferCheckedParams(\n",
    "            program_id=TOKEN_PROGRAM_ID,\n",
    "            source=get_associated_token_address(kp_payer.public_key, token.pubkey),\n",
    "            mint=token.pubkey,\n",
    "            dest=get_associated_token_address(kp_escrow.public_key, token.pubkey),\n",
    "            owner=kp_payer.public_key,\n",
    "            amount=1,\n",
    "            decimals=6\n",
    "        )\n",
    "    )\n",
    ")\n",
    "\n",
    "txn.add(\n",
    "    transfer_checked(\n",
    "        TransferCheckedParams(\n",
    "            program_id=TOKEN_PROGRAM_ID,\n",
    "            source=get_associated_token_address(kp_payer.public_key, token.pubkey),\n",
    "            mint=token.pubkey,\n",
    "            dest=get_associated_token_address(kp_reciever.public_key, token.pubkey),\n",
    "            owner=kp_payer.public_key,\n",
    "            amount=1,\n",
    "            decimals=6\n",
    "        )\n",
    "    )\n",
    ")\n",
    "\n",
    "\n",
    "signers = [kp_fee_payer, kp_payer]\n",
    "await cli.send_transaction(txn, *signers)\n"
   ]
  },
  {
   "cell_type": "code",
   "execution_count": null,
   "metadata": {},
   "outputs": [],
   "source": []
  }
 ],
 "metadata": {
  "interpreter": {
   "hash": "25ae392fe4de71da622a195db60a56961f2ec828412556c8573aa702380772d1"
  },
  "kernelspec": {
   "display_name": "Python 3.10.4 ('py310')",
   "language": "python",
   "name": "python3"
  },
  "language_info": {
   "codemirror_mode": {
    "name": "ipython",
    "version": 3
   },
   "file_extension": ".py",
   "mimetype": "text/x-python",
   "name": "python",
   "nbconvert_exporter": "python",
   "pygments_lexer": "ipython3",
   "version": "3.10.4"
  },
  "orig_nbformat": 4
 },
 "nbformat": 4,
 "nbformat_minor": 2
}
