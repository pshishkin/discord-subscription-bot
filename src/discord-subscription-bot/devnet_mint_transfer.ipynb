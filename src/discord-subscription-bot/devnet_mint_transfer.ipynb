{
 "cells": [
  {
   "cell_type": "code",
   "execution_count": 1,
   "metadata": {
    "pycharm": {
     "name": "#%%\n"
    }
   },
   "outputs": [],
   "source": [
    "import solana.system_program as sp\n",
    "from solana.publickey import PublicKey\n",
    "from solana.keypair import Keypair\n",
    "from solana.rpc.api import Client\n",
    "from solana.rpc.async_api import AsyncClient\n",
    "from solana.transaction import Transaction, TransactionInstruction, AccountMeta\n",
    "from spl.token.async_client import AsyncToken\n",
    "from spl.token.constants import TOKEN_PROGRAM_ID\n",
    "from solana.rpc.types import TxOpts\n",
    "\n",
    "from solana.transaction import Transaction, TransactionInstruction\n",
    "from spl.token.instructions import (\n",
    "    initialize_mint,\n",
    "    InitializeMintParams,\n",
    "    initialize_account,\n",
    "    InitializeAccountParams,\n",
    "    mint_to_checked,\n",
    "    MintToCheckedParams,\n",
    "    get_associated_token_address,\n",
    "    create_associated_token_account,\n",
    "    transfer_checked,\n",
    "    TransferCheckedParams,\n",
    ")\n"
   ]
  },
  {
   "cell_type": "code",
   "execution_count": 2,
   "metadata": {
    "pycharm": {
     "name": "#%%\n"
    }
   },
   "outputs": [],
   "source": [
    "cli = AsyncClient('https://api.devnet.solana.com')"
   ]
  },
  {
   "cell_type": "code",
   "execution_count": 3,
   "metadata": {
    "pycharm": {
     "name": "#%%\n"
    }
   },
   "outputs": [],
   "source": [
    "kp_mint = Keypair.generate()\n",
    "kp_payer = Keypair.generate()\n",
    "kp_escrow = Keypair.generate()\n",
    "kp_reciever = Keypair.generate()\n",
    "kp_fee_payer = Keypair.generate()\n"
   ]
  },
  {
   "cell_type": "code",
   "execution_count": 4,
   "metadata": {
    "pycharm": {
     "name": "#%%\n"
    }
   },
   "outputs": [
    {
     "name": "stdout",
     "output_type": "stream",
     "text": [
      "6smHRnPD9FpcqdGzSFeLfCu4cpCKrUFJcBFeJSmGcqXM\n",
      "28cmV3EGDrqj5En3VJptnzpNtWAApgSKgDoQF61DkQjf\n",
      "AZ7UcmP7w94e7UAxbcUjfdJ3F78cDDj3wRYUB5uBdan2\n",
      "Bcm4muYBAy9uwBSRV9XY7JFmbFpokuMz7RSFkiEqEg5z\n",
      "8MNEbvXgKSUmWANoxkWpVWvTZPpv8Dau2JHVApea1cP9\n"
     ]
    }
   ],
   "source": [
    "print(kp_mint.public_key)\n",
    "print(kp_payer.public_key)\n",
    "print(kp_escrow.public_key)\n",
    "print(kp_reciever.public_key)\n",
    "print(kp_fee_payer.public_key)"
   ]
  },
  {
   "cell_type": "code",
   "execution_count": 5,
   "metadata": {
    "pycharm": {
     "name": "#%%\n"
    }
   },
   "outputs": [
    {
     "data": {
      "text/plain": "6smHRnPD9FpcqdGzSFeLfCu4cpCKrUFJcBFeJSmGcqXM"
     },
     "execution_count": 5,
     "metadata": {},
     "output_type": "execute_result"
    }
   ],
   "source": [
    "kp_mint.public_key"
   ]
  },
  {
   "cell_type": "code",
   "execution_count": 6,
   "metadata": {
    "pycharm": {
     "name": "#%%\n"
    }
   },
   "outputs": [
    {
     "data": {
      "text/plain": "{'jsonrpc': '2.0',\n 'result': '4YwSdWkGfpdmpMtr48t3YUucic3pKG9iajK24usT3WEPwKP5Ez7WT8xhGBK6FprFre4ae9aPyShiaeeKDWSegB71',\n 'id': 1}"
     },
     "execution_count": 6,
     "metadata": {},
     "output_type": "execute_result"
    }
   ],
   "source": [
    "await cli.request_airdrop(kp_payer.public_key, 100000000)"
   ]
  },
  {
   "cell_type": "code",
   "execution_count": 9,
   "metadata": {
    "pycharm": {
     "name": "#%%\n"
    }
   },
   "outputs": [
    {
     "data": {
      "text/plain": "{'jsonrpc': '2.0',\n 'result': '3VjB127fLuZrqmR6RFd5Au6xopLurxWPoQu67LdJJ5jEmTffMUSWHRaF9HAsEbCNsygKRkQAfBXeNQgbxMQB7fYx',\n 'id': 4}"
     },
     "execution_count": 9,
     "metadata": {},
     "output_type": "execute_result"
    }
   ],
   "source": [
    "await cli.request_airdrop(kp_mint.public_key, 100000000)"
   ]
  },
  {
   "cell_type": "code",
   "execution_count": 10,
   "metadata": {
    "pycharm": {
     "name": "#%%\n"
    }
   },
   "outputs": [
    {
     "data": {
      "text/plain": "{'jsonrpc': '2.0',\n 'result': '3MHJ9W68pyZvMfCSfAuNc8UyQSvGMQdeEzTj3KryT6RGrgCbVcUrkKKxhBzwxz6CQnfsydMYPYBZBUC5ka6rdUHF',\n 'id': 5}"
     },
     "execution_count": 10,
     "metadata": {},
     "output_type": "execute_result"
    }
   ],
   "source": [
    "await cli.request_airdrop(kp_fee_payer.public_key, 100000000)"
   ]
  },
  {
   "cell_type": "code",
   "execution_count": 11,
   "metadata": {
    "pycharm": {
     "name": "#%%\n"
    }
   },
   "outputs": [
    {
     "data": {
      "text/plain": "{'jsonrpc': '2.0',\n 'result': {'context': {'apiVersion': '1.10.26', 'slot': 145913763},\n  'value': 0},\n 'id': 6}"
     },
     "execution_count": 11,
     "metadata": {},
     "output_type": "execute_result"
    }
   ],
   "source": [
    "await cli.get_balance(kp_mint.public_key)"
   ]
  },
  {
   "cell_type": "code",
   "execution_count": 13,
   "metadata": {
    "pycharm": {
     "name": "#%%\n"
    }
   },
   "outputs": [
    {
     "data": {
      "text/plain": "<spl.token.async_client.AsyncToken at 0x10409bb50>"
     },
     "execution_count": 13,
     "metadata": {},
     "output_type": "execute_result"
    }
   ],
   "source": [
    "token = await AsyncToken.create_mint(cli, kp_mint, kp_mint.public_key, 6, TOKEN_PROGRAM_ID, kp_mint.public_key)\n",
    "token"
   ]
  },
  {
   "cell_type": "code",
   "execution_count": 14,
   "metadata": {
    "pycharm": {
     "name": "#%%\n"
    }
   },
   "outputs": [
    {
     "data": {
      "text/plain": "{'jsonrpc': '2.0',\n 'result': {'context': {'apiVersion': '1.10.26', 'slot': 145914002},\n  'value': 98528400},\n 'id': 34}"
     },
     "execution_count": 14,
     "metadata": {},
     "output_type": "execute_result"
    }
   ],
   "source": [
    "await cli.get_balance(kp_mint.public_key)"
   ]
  },
  {
   "cell_type": "code",
   "execution_count": 15,
   "metadata": {
    "pycharm": {
     "name": "#%%\n"
    }
   },
   "outputs": [
    {
     "data": {
      "text/plain": "GYdgi65nSM7i1yjqhjpSzZW4eAmf3NSff3DH3uJGDWxZ"
     },
     "execution_count": 15,
     "metadata": {},
     "output_type": "execute_result"
    }
   ],
   "source": [
    "token.pubkey"
   ]
  },
  {
   "cell_type": "code",
   "execution_count": 16,
   "metadata": {
    "pycharm": {
     "name": "#%%\n"
    }
   },
   "outputs": [
    {
     "data": {
      "text/plain": "MintInfo(mint_authority=6smHRnPD9FpcqdGzSFeLfCu4cpCKrUFJcBFeJSmGcqXM, supply=0, decimals=6, is_initialized=True, freeze_authority=6smHRnPD9FpcqdGzSFeLfCu4cpCKrUFJcBFeJSmGcqXM)"
     },
     "execution_count": 16,
     "metadata": {},
     "output_type": "execute_result"
    }
   ],
   "source": [
    "await token.get_mint_info()"
   ]
  },
  {
   "cell_type": "code",
   "execution_count": 17,
   "metadata": {
    "pycharm": {
     "name": "#%%\n"
    }
   },
   "outputs": [
    {
     "name": "stdout",
     "output_type": "stream",
     "text": [
      "6smHRnPD9FpcqdGzSFeLfCu4cpCKrUFJcBFeJSmGcqXM\n",
      "GYdgi65nSM7i1yjqhjpSzZW4eAmf3NSff3DH3uJGDWxZ\n"
     ]
    },
    {
     "data": {
      "text/plain": "solana.publickey.PublicKey"
     },
     "execution_count": 17,
     "metadata": {},
     "output_type": "execute_result"
    }
   ],
   "source": [
    "print(kp_mint.public_key)\n",
    "print(token.pubkey)\n",
    "type(token.pubkey)"
   ]
  },
  {
   "cell_type": "code",
   "execution_count": 18,
   "metadata": {
    "pycharm": {
     "name": "#%%\n"
    }
   },
   "outputs": [
    {
     "data": {
      "text/plain": "j8kBeWYVdBP9QPzrVtJm7LkmZ4MiPQ7Ktbtvqtag2Ep"
     },
     "execution_count": 18,
     "metadata": {},
     "output_type": "execute_result"
    }
   ],
   "source": [
    "kp_mint_tokaddr = get_associated_token_address(kp_mint.public_key, token.pubkey)\n",
    "kp_mint_tokaddr"
   ]
  },
  {
   "cell_type": "code",
   "execution_count": 19,
   "metadata": {
    "pycharm": {
     "name": "#%%\n"
    }
   },
   "outputs": [
    {
     "ename": "RPCException",
     "evalue": "{'code': -32002, 'message': 'Transaction simulation failed: Error processing Instruction 0: invalid account data for instruction', 'data': {'accounts': None, 'err': {'InstructionError': [0, 'InvalidAccountData']}, 'logs': ['Program TokenkegQfeZyiNwAJbNbGKPFXCWuBvf9Ss623VQ5DA invoke [1]', 'Program log: Instruction: MintToChecked', 'Program log: Error: InvalidAccountData', 'Program TokenkegQfeZyiNwAJbNbGKPFXCWuBvf9Ss623VQ5DA consumed 1601 of 200000 compute units', 'Program TokenkegQfeZyiNwAJbNbGKPFXCWuBvf9Ss623VQ5DA failed: invalid account data for instruction'], 'unitsConsumed': 0}}",
     "output_type": "error",
     "traceback": [
      "\u001B[0;31m---------------------------------------------------------------------------\u001B[0m",
      "\u001B[0;31mRPCException\u001B[0m                              Traceback (most recent call last)",
      "Input \u001B[0;32mIn [19]\u001B[0m, in \u001B[0;36m<cell line: 20>\u001B[0;34m()\u001B[0m\n\u001B[1;32m      7\u001B[0m txn\u001B[38;5;241m.\u001B[39madd(\n\u001B[1;32m      8\u001B[0m     mint_to_checked(\n\u001B[1;32m      9\u001B[0m         MintToCheckedParams(\n\u001B[0;32m   (...)\u001B[0m\n\u001B[1;32m     17\u001B[0m     )\n\u001B[1;32m     18\u001B[0m )\n\u001B[1;32m     19\u001B[0m signers \u001B[38;5;241m=\u001B[39m [kp_mint]\n\u001B[0;32m---> 20\u001B[0m \u001B[38;5;28;01mawait\u001B[39;00m cli\u001B[38;5;241m.\u001B[39msend_transaction(txn, \u001B[38;5;241m*\u001B[39msigners)\n",
      "File \u001B[0;32m~/Library/Caches/pypoetry/virtualenvs/discord-subscription-bot-jFo4pA2_-py3.9/lib/python3.9/site-packages/solana/rpc/async_api.py:1383\u001B[0m, in \u001B[0;36mAsyncClient.send_transaction\u001B[0;34m(self, txn, opts, recent_blockhash, *signers)\u001B[0m\n\u001B[1;32m   1377\u001B[0m txn\u001B[38;5;241m.\u001B[39msign(\u001B[38;5;241m*\u001B[39msigners)\n\u001B[1;32m   1378\u001B[0m opts_to_use \u001B[38;5;241m=\u001B[39m (\n\u001B[1;32m   1379\u001B[0m     types\u001B[38;5;241m.\u001B[39mTxOpts(preflight_commitment\u001B[38;5;241m=\u001B[39m\u001B[38;5;28mself\u001B[39m\u001B[38;5;241m.\u001B[39m_commitment, last_valid_block_height\u001B[38;5;241m=\u001B[39mlast_valid_block_height)\n\u001B[1;32m   1380\u001B[0m     \u001B[38;5;28;01mif\u001B[39;00m opts \u001B[38;5;129;01mis\u001B[39;00m \u001B[38;5;28;01mNone\u001B[39;00m\n\u001B[1;32m   1381\u001B[0m     \u001B[38;5;28;01melse\u001B[39;00m opts\n\u001B[1;32m   1382\u001B[0m )\n\u001B[0;32m-> 1383\u001B[0m txn_resp \u001B[38;5;241m=\u001B[39m \u001B[38;5;28;01mawait\u001B[39;00m \u001B[38;5;28mself\u001B[39m\u001B[38;5;241m.\u001B[39msend_raw_transaction(txn\u001B[38;5;241m.\u001B[39mserialize(), opts\u001B[38;5;241m=\u001B[39mopts_to_use)\n\u001B[1;32m   1384\u001B[0m \u001B[38;5;28;01mif\u001B[39;00m \u001B[38;5;28mself\u001B[39m\u001B[38;5;241m.\u001B[39mblockhash_cache:\n\u001B[1;32m   1385\u001B[0m     blockhash_resp \u001B[38;5;241m=\u001B[39m \u001B[38;5;28;01mawait\u001B[39;00m \u001B[38;5;28mself\u001B[39m\u001B[38;5;241m.\u001B[39mget_latest_blockhash(Finalized)\n",
      "File \u001B[0;32m~/Library/Caches/pypoetry/virtualenvs/discord-subscription-bot-jFo4pA2_-py3.9/lib/python3.9/site-packages/solana/rpc/async_api.py:1328\u001B[0m, in \u001B[0;36mAsyncClient.send_raw_transaction\u001B[0;34m(self, txn, opts)\u001B[0m\n\u001B[1;32m   1326\u001B[0m resp \u001B[38;5;241m=\u001B[39m \u001B[38;5;28;01mawait\u001B[39;00m \u001B[38;5;28mself\u001B[39m\u001B[38;5;241m.\u001B[39m_provider\u001B[38;5;241m.\u001B[39mmake_request(\u001B[38;5;241m*\u001B[39margs)\n\u001B[1;32m   1327\u001B[0m \u001B[38;5;28;01mif\u001B[39;00m opts_to_use\u001B[38;5;241m.\u001B[39mskip_confirmation:\n\u001B[0;32m-> 1328\u001B[0m     \u001B[38;5;28;01mreturn\u001B[39;00m \u001B[38;5;28;43mself\u001B[39;49m\u001B[38;5;241;43m.\u001B[39;49m\u001B[43m_post_send\u001B[49m\u001B[43m(\u001B[49m\u001B[43mresp\u001B[49m\u001B[43m)\u001B[49m\n\u001B[1;32m   1329\u001B[0m post_send_args \u001B[38;5;241m=\u001B[39m \u001B[38;5;28mself\u001B[39m\u001B[38;5;241m.\u001B[39m_send_raw_transaction_post_send_args(resp, opts_to_use)\n\u001B[1;32m   1330\u001B[0m \u001B[38;5;28;01mreturn\u001B[39;00m \u001B[38;5;28;01mawait\u001B[39;00m \u001B[38;5;28mself\u001B[39m\u001B[38;5;241m.\u001B[39m__post_send_with_confirm(\u001B[38;5;241m*\u001B[39mpost_send_args)\n",
      "File \u001B[0;32m~/Library/Caches/pypoetry/virtualenvs/discord-subscription-bot-jFo4pA2_-py3.9/lib/python3.9/site-packages/solana/rpc/core.py:451\u001B[0m, in \u001B[0;36m_ClientCore._post_send\u001B[0;34m(resp)\u001B[0m\n\u001B[1;32m    449\u001B[0m error \u001B[38;5;241m=\u001B[39m resp\u001B[38;5;241m.\u001B[39mget(\u001B[38;5;124m\"\u001B[39m\u001B[38;5;124merror\u001B[39m\u001B[38;5;124m\"\u001B[39m)\n\u001B[1;32m    450\u001B[0m \u001B[38;5;28;01mif\u001B[39;00m error:\n\u001B[0;32m--> 451\u001B[0m     \u001B[38;5;28;01mraise\u001B[39;00m RPCException(error)\n\u001B[1;32m    452\u001B[0m \u001B[38;5;28;01mif\u001B[39;00m \u001B[38;5;129;01mnot\u001B[39;00m resp\u001B[38;5;241m.\u001B[39mget(\u001B[38;5;124m\"\u001B[39m\u001B[38;5;124mresult\u001B[39m\u001B[38;5;124m\"\u001B[39m):\n\u001B[1;32m    453\u001B[0m     \u001B[38;5;28;01mraise\u001B[39;00m RPCNoResultException(\u001B[38;5;124m\"\u001B[39m\u001B[38;5;124mFailed to send transaction\u001B[39m\u001B[38;5;124m\"\u001B[39m)\n",
      "\u001B[0;31mRPCException\u001B[0m: {'code': -32002, 'message': 'Transaction simulation failed: Error processing Instruction 0: invalid account data for instruction', 'data': {'accounts': None, 'err': {'InstructionError': [0, 'InvalidAccountData']}, 'logs': ['Program TokenkegQfeZyiNwAJbNbGKPFXCWuBvf9Ss623VQ5DA invoke [1]', 'Program log: Instruction: MintToChecked', 'Program log: Error: InvalidAccountData', 'Program TokenkegQfeZyiNwAJbNbGKPFXCWuBvf9Ss623VQ5DA consumed 1601 of 200000 compute units', 'Program TokenkegQfeZyiNwAJbNbGKPFXCWuBvf9Ss623VQ5DA failed: invalid account data for instruction'], 'unitsConsumed': 0}}"
     ]
    }
   ],
   "source": [
    "# , opts={'feePayer': kp_mint}\n",
    "# opts=TxOpts(skip_confirmation=False)\n",
    "# opts=TxOpts(feePayer=kp_mint)\n",
    "# await token.mint_to_checked(kp_payer.public_key, kp_mint.public_key, 1000, 6)\n",
    "\n",
    "txn = Transaction(fee_payer=kp_mint.public_key)\n",
    "txn.add(\n",
    "    mint_to_checked(\n",
    "        MintToCheckedParams(\n",
    "            TOKEN_PROGRAM_ID,\n",
    "            token.pubkey,\n",
    "            kp_mint_tokaddr,\n",
    "            kp_mint.public_key,\n",
    "            10,\n",
    "            6,\n",
    "        )\n",
    "    )\n",
    ")\n",
    "signers = [kp_mint]\n",
    "await cli.send_transaction(txn, *signers)\n",
    "\n"
   ]
  },
  {
   "cell_type": "code",
   "execution_count": 20,
   "metadata": {
    "pycharm": {
     "name": "#%%\n"
    }
   },
   "outputs": [
    {
     "data": {
      "text/plain": "{'jsonrpc': '2.0',\n 'result': '3fsyCK2mV9a9toENN9xZKXAZzDvTVoscYt4PS9TW3N2hosroPoyUYefeX6tjASpukrfsrsBefiL3RtvP6CFn8jhm',\n 'id': 39}"
     },
     "execution_count": 20,
     "metadata": {},
     "output_type": "execute_result"
    }
   ],
   "source": [
    "\n",
    "txn = Transaction(fee_payer=kp_mint.public_key)\n",
    "txn.add(\n",
    "        create_associated_token_account(kp_mint.public_key, kp_mint.public_key, token.pubkey)\n",
    "    )\n",
    "signers = [kp_mint]\n",
    "await cli.send_transaction(txn, *signers)\n",
    "\n"
   ]
  },
  {
   "cell_type": "code",
   "execution_count": 21,
   "metadata": {
    "pycharm": {
     "name": "#%%\n"
    }
   },
   "outputs": [
    {
     "data": {
      "text/plain": "{'jsonrpc': '2.0',\n 'result': 'F35FQDLa8Tz7KGLjGFrEUfyW9jvWyMtcmPH3S42qEA8qFGYDod4Rjtgw5pYKKw1H5c1EWJykM5xavHScsUHw8HS',\n 'id': 41}"
     },
     "execution_count": 21,
     "metadata": {},
     "output_type": "execute_result"
    }
   ],
   "source": [
    "txn = Transaction(fee_payer=kp_mint.public_key)\n",
    "\n",
    "txn.add(\n",
    "    mint_to_checked(\n",
    "        MintToCheckedParams(\n",
    "            TOKEN_PROGRAM_ID,\n",
    "            token.pubkey,\n",
    "            kp_mint_tokaddr,\n",
    "            kp_mint.public_key,\n",
    "            10,\n",
    "            6,\n",
    "        )\n",
    "    )\n",
    ")\n",
    "signers = [kp_mint]\n",
    "await cli.send_transaction(txn, *signers)\n"
   ]
  },
  {
   "cell_type": "code",
   "execution_count": 22,
   "metadata": {
    "pycharm": {
     "name": "#%%\n"
    }
   },
   "outputs": [
    {
     "data": {
      "text/plain": "{'jsonrpc': '2.0',\n 'result': '5W592FsobEwm1vSvXvcgqWoUizQK2sSkL4LYcX5VZVRaFWthaAqxhKUERWMM7Bo1kmEfeibyJEGJzP3Rpg2JSRft',\n 'id': 43}"
     },
     "execution_count": 22,
     "metadata": {},
     "output_type": "execute_result"
    }
   ],
   "source": [
    "\n",
    "txn = Transaction(fee_payer=kp_mint.public_key)\n",
    "txn.add(\n",
    "        create_associated_token_account(kp_mint.public_key, kp_payer.public_key, token.pubkey)\n",
    "    )\n",
    "signers = [kp_mint]\n",
    "await cli.send_transaction(txn, *signers)\n",
    "\n"
   ]
  },
  {
   "cell_type": "code",
   "execution_count": 29,
   "metadata": {
    "pycharm": {
     "name": "#%%\n"
    }
   },
   "outputs": [
    {
     "data": {
      "text/plain": "{'jsonrpc': '2.0',\n 'result': '5xmX2Yevydk8UM335zbP4DS118FXexLzeF8aZguVHSTHMQmkFribWQUZD4HRFaYL6Jm1532EZZQxHiQ2EECPnCie',\n 'id': 54}"
     },
     "execution_count": 29,
     "metadata": {},
     "output_type": "execute_result"
    }
   ],
   "source": [
    "kp_payer_tokaddr = get_associated_token_address(kp_payer.public_key, token.pubkey)\n",
    "\n",
    "\n",
    "txn = Transaction(fee_payer=kp_mint.public_key)\n",
    "\n",
    "txn.add(\n",
    "    mint_to_checked(\n",
    "        MintToCheckedParams(\n",
    "            TOKEN_PROGRAM_ID,\n",
    "            token.pubkey,\n",
    "            kp_payer_tokaddr,\n",
    "            kp_mint.public_key,\n",
    "            10,\n",
    "            6,\n",
    "        )\n",
    "    )\n",
    ")\n",
    "signers = [kp_mint]\n",
    "await cli.send_transaction(txn, *signers)\n"
   ]
  },
  {
   "cell_type": "code",
   "execution_count": 33,
   "metadata": {
    "pycharm": {
     "name": "#%%\n"
    }
   },
   "outputs": [
    {
     "name": "stdout",
     "output_type": "stream",
     "text": [
      "GYdgi65nSM7i1yjqhjpSzZW4eAmf3NSff3DH3uJGDWxZ\n",
      "28cmV3EGDrqj5En3VJptnzpNtWAApgSKgDoQF61DkQjf\n"
     ]
    },
    {
     "data": {
      "text/plain": "{'jsonrpc': '2.0',\n 'result': {'context': {'apiVersion': '1.10.26', 'slot': 145914720},\n  'value': [{'account': {'data': {'parsed': {'info': {'isNative': False,\n        'mint': 'GYdgi65nSM7i1yjqhjpSzZW4eAmf3NSff3DH3uJGDWxZ',\n        'owner': '28cmV3EGDrqj5En3VJptnzpNtWAApgSKgDoQF61DkQjf',\n        'state': 'initialized',\n        'tokenAmount': {'amount': '10',\n         'decimals': 6,\n         'uiAmount': 1e-05,\n         'uiAmountString': '0.00001'}},\n       'type': 'account'},\n      'program': 'spl-token',\n      'space': 165},\n     'executable': False,\n     'lamports': 2039280,\n     'owner': 'TokenkegQfeZyiNwAJbNbGKPFXCWuBvf9Ss623VQ5DA',\n     'rentEpoch': 337},\n    'pubkey': '5nmSWLqe2BZQTLKHEnWqNL6GKBjpcR5GZy6hLk1tCrVN'}]},\n 'id': 58}"
     },
     "execution_count": 33,
     "metadata": {},
     "output_type": "execute_result"
    }
   ],
   "source": [
    "# here we can see the balance\n",
    "print(token.pubkey)\n",
    "print(kp_payer.public_key)\n",
    "await token.get_accounts(kp_payer.public_key)\n"
   ]
  },
  {
   "cell_type": "code",
   "execution_count": 25,
   "metadata": {
    "pycharm": {
     "name": "#%%\n"
    }
   },
   "outputs": [
    {
     "data": {
      "text/plain": "{'jsonrpc': '2.0',\n 'result': '5Mr6oVPskfd1NEyKbo2vrSS7TnfY6ANEvwueUZY6oTm5LbUxPamE1ERbeVUH1eRaV3fu25ovUzvZC4m9BJJadDfi',\n 'id': 48}"
     },
     "execution_count": 25,
     "metadata": {},
     "output_type": "execute_result"
    }
   ],
   "source": [
    "txn = Transaction(fee_payer=kp_mint.public_key)\n",
    "txn.add(\n",
    "        create_associated_token_account(kp_mint.public_key, kp_reciever.public_key, token.pubkey)\n",
    "    )\n",
    "signers = [kp_mint]\n",
    "await cli.send_transaction(txn, *signers)\n"
   ]
  },
  {
   "cell_type": "code",
   "execution_count": 26,
   "metadata": {
    "pycharm": {
     "name": "#%%\n"
    }
   },
   "outputs": [
    {
     "data": {
      "text/plain": "{'jsonrpc': '2.0',\n 'result': '2z1p9uUJDtv29AyLJTmaFH4g1Ur7vUFXB1nTd8WGP5TKDZMbuU9kGr2qXrHrHNVEKgw6fp2kqofRSHXJM3nLdxkW',\n 'id': 50}"
     },
     "execution_count": 26,
     "metadata": {},
     "output_type": "execute_result"
    }
   ],
   "source": [
    "txn = Transaction(fee_payer=kp_mint.public_key)\n",
    "txn.add(\n",
    "        create_associated_token_account(kp_mint.public_key, kp_escrow.public_key, token.pubkey)\n",
    "    )\n",
    "signers = [kp_mint]\n",
    "await cli.send_transaction(txn, *signers)\n"
   ]
  },
  {
   "cell_type": "code",
   "execution_count": 27,
   "metadata": {
    "pycharm": {
     "name": "#%%\n"
    }
   },
   "outputs": [
    {
     "data": {
      "text/plain": "28cmV3EGDrqj5En3VJptnzpNtWAApgSKgDoQF61DkQjf"
     },
     "execution_count": 27,
     "metadata": {},
     "output_type": "execute_result"
    }
   ],
   "source": [
    "kp_payer.public_key"
   ]
  },
  {
   "cell_type": "code",
   "execution_count": 28,
   "metadata": {
    "pycharm": {
     "name": "#%%\n"
    }
   },
   "outputs": [
    {
     "ename": "RPCException",
     "evalue": "{'code': -32002, 'message': 'Transaction simulation failed: Error processing Instruction 0: custom program error: 0x1', 'data': {'accounts': None, 'err': {'InstructionError': [0, {'Custom': 1}]}, 'logs': ['Program TokenkegQfeZyiNwAJbNbGKPFXCWuBvf9Ss623VQ5DA invoke [1]', 'Program log: Instruction: TransferChecked', 'Program log: Error: insufficient funds', 'Program TokenkegQfeZyiNwAJbNbGKPFXCWuBvf9Ss623VQ5DA consumed 2827 of 200000 compute units', 'Program TokenkegQfeZyiNwAJbNbGKPFXCWuBvf9Ss623VQ5DA failed: custom program error: 0x1'], 'unitsConsumed': 0}}",
     "output_type": "error",
     "traceback": [
      "\u001B[0;31m---------------------------------------------------------------------------\u001B[0m",
      "\u001B[0;31mRPCException\u001B[0m                              Traceback (most recent call last)",
      "Input \u001B[0;32mIn [28]\u001B[0m, in \u001B[0;36m<cell line: 17>\u001B[0;34m()\u001B[0m\n\u001B[1;32m      3\u001B[0m txn\u001B[38;5;241m.\u001B[39madd(\n\u001B[1;32m      4\u001B[0m     transfer_checked(\n\u001B[1;32m      5\u001B[0m         TransferCheckedParams(\n\u001B[0;32m   (...)\u001B[0m\n\u001B[1;32m     14\u001B[0m     )\n\u001B[1;32m     15\u001B[0m )\n\u001B[1;32m     16\u001B[0m signers \u001B[38;5;241m=\u001B[39m [kp_payer]\n\u001B[0;32m---> 17\u001B[0m \u001B[38;5;28;01mawait\u001B[39;00m cli\u001B[38;5;241m.\u001B[39msend_transaction(txn, \u001B[38;5;241m*\u001B[39msigners)\n",
      "File \u001B[0;32m~/Library/Caches/pypoetry/virtualenvs/discord-subscription-bot-jFo4pA2_-py3.9/lib/python3.9/site-packages/solana/rpc/async_api.py:1383\u001B[0m, in \u001B[0;36mAsyncClient.send_transaction\u001B[0;34m(self, txn, opts, recent_blockhash, *signers)\u001B[0m\n\u001B[1;32m   1377\u001B[0m txn\u001B[38;5;241m.\u001B[39msign(\u001B[38;5;241m*\u001B[39msigners)\n\u001B[1;32m   1378\u001B[0m opts_to_use \u001B[38;5;241m=\u001B[39m (\n\u001B[1;32m   1379\u001B[0m     types\u001B[38;5;241m.\u001B[39mTxOpts(preflight_commitment\u001B[38;5;241m=\u001B[39m\u001B[38;5;28mself\u001B[39m\u001B[38;5;241m.\u001B[39m_commitment, last_valid_block_height\u001B[38;5;241m=\u001B[39mlast_valid_block_height)\n\u001B[1;32m   1380\u001B[0m     \u001B[38;5;28;01mif\u001B[39;00m opts \u001B[38;5;129;01mis\u001B[39;00m \u001B[38;5;28;01mNone\u001B[39;00m\n\u001B[1;32m   1381\u001B[0m     \u001B[38;5;28;01melse\u001B[39;00m opts\n\u001B[1;32m   1382\u001B[0m )\n\u001B[0;32m-> 1383\u001B[0m txn_resp \u001B[38;5;241m=\u001B[39m \u001B[38;5;28;01mawait\u001B[39;00m \u001B[38;5;28mself\u001B[39m\u001B[38;5;241m.\u001B[39msend_raw_transaction(txn\u001B[38;5;241m.\u001B[39mserialize(), opts\u001B[38;5;241m=\u001B[39mopts_to_use)\n\u001B[1;32m   1384\u001B[0m \u001B[38;5;28;01mif\u001B[39;00m \u001B[38;5;28mself\u001B[39m\u001B[38;5;241m.\u001B[39mblockhash_cache:\n\u001B[1;32m   1385\u001B[0m     blockhash_resp \u001B[38;5;241m=\u001B[39m \u001B[38;5;28;01mawait\u001B[39;00m \u001B[38;5;28mself\u001B[39m\u001B[38;5;241m.\u001B[39mget_latest_blockhash(Finalized)\n",
      "File \u001B[0;32m~/Library/Caches/pypoetry/virtualenvs/discord-subscription-bot-jFo4pA2_-py3.9/lib/python3.9/site-packages/solana/rpc/async_api.py:1328\u001B[0m, in \u001B[0;36mAsyncClient.send_raw_transaction\u001B[0;34m(self, txn, opts)\u001B[0m\n\u001B[1;32m   1326\u001B[0m resp \u001B[38;5;241m=\u001B[39m \u001B[38;5;28;01mawait\u001B[39;00m \u001B[38;5;28mself\u001B[39m\u001B[38;5;241m.\u001B[39m_provider\u001B[38;5;241m.\u001B[39mmake_request(\u001B[38;5;241m*\u001B[39margs)\n\u001B[1;32m   1327\u001B[0m \u001B[38;5;28;01mif\u001B[39;00m opts_to_use\u001B[38;5;241m.\u001B[39mskip_confirmation:\n\u001B[0;32m-> 1328\u001B[0m     \u001B[38;5;28;01mreturn\u001B[39;00m \u001B[38;5;28;43mself\u001B[39;49m\u001B[38;5;241;43m.\u001B[39;49m\u001B[43m_post_send\u001B[49m\u001B[43m(\u001B[49m\u001B[43mresp\u001B[49m\u001B[43m)\u001B[49m\n\u001B[1;32m   1329\u001B[0m post_send_args \u001B[38;5;241m=\u001B[39m \u001B[38;5;28mself\u001B[39m\u001B[38;5;241m.\u001B[39m_send_raw_transaction_post_send_args(resp, opts_to_use)\n\u001B[1;32m   1330\u001B[0m \u001B[38;5;28;01mreturn\u001B[39;00m \u001B[38;5;28;01mawait\u001B[39;00m \u001B[38;5;28mself\u001B[39m\u001B[38;5;241m.\u001B[39m__post_send_with_confirm(\u001B[38;5;241m*\u001B[39mpost_send_args)\n",
      "File \u001B[0;32m~/Library/Caches/pypoetry/virtualenvs/discord-subscription-bot-jFo4pA2_-py3.9/lib/python3.9/site-packages/solana/rpc/core.py:451\u001B[0m, in \u001B[0;36m_ClientCore._post_send\u001B[0;34m(resp)\u001B[0m\n\u001B[1;32m    449\u001B[0m error \u001B[38;5;241m=\u001B[39m resp\u001B[38;5;241m.\u001B[39mget(\u001B[38;5;124m\"\u001B[39m\u001B[38;5;124merror\u001B[39m\u001B[38;5;124m\"\u001B[39m)\n\u001B[1;32m    450\u001B[0m \u001B[38;5;28;01mif\u001B[39;00m error:\n\u001B[0;32m--> 451\u001B[0m     \u001B[38;5;28;01mraise\u001B[39;00m RPCException(error)\n\u001B[1;32m    452\u001B[0m \u001B[38;5;28;01mif\u001B[39;00m \u001B[38;5;129;01mnot\u001B[39;00m resp\u001B[38;5;241m.\u001B[39mget(\u001B[38;5;124m\"\u001B[39m\u001B[38;5;124mresult\u001B[39m\u001B[38;5;124m\"\u001B[39m):\n\u001B[1;32m    453\u001B[0m     \u001B[38;5;28;01mraise\u001B[39;00m RPCNoResultException(\u001B[38;5;124m\"\u001B[39m\u001B[38;5;124mFailed to send transaction\u001B[39m\u001B[38;5;124m\"\u001B[39m)\n",
      "\u001B[0;31mRPCException\u001B[0m: {'code': -32002, 'message': 'Transaction simulation failed: Error processing Instruction 0: custom program error: 0x1', 'data': {'accounts': None, 'err': {'InstructionError': [0, {'Custom': 1}]}, 'logs': ['Program TokenkegQfeZyiNwAJbNbGKPFXCWuBvf9Ss623VQ5DA invoke [1]', 'Program log: Instruction: TransferChecked', 'Program log: Error: insufficient funds', 'Program TokenkegQfeZyiNwAJbNbGKPFXCWuBvf9Ss623VQ5DA consumed 2827 of 200000 compute units', 'Program TokenkegQfeZyiNwAJbNbGKPFXCWuBvf9Ss623VQ5DA failed: custom program error: 0x1'], 'unitsConsumed': 0}}"
     ]
    }
   ],
   "source": [
    "\n",
    "txn = Transaction(fee_payer=kp_payer.public_key)\n",
    "\n",
    "txn.add(\n",
    "    transfer_checked(\n",
    "        TransferCheckedParams(\n",
    "            program_id=TOKEN_PROGRAM_ID,\n",
    "            source=get_associated_token_address(kp_payer.public_key, token.pubkey),\n",
    "            mint=token.pubkey,\n",
    "            dest=get_associated_token_address(kp_escrow.public_key, token.pubkey),\n",
    "            owner=kp_payer.public_key,\n",
    "            amount=12,\n",
    "            decimals=6\n",
    "        )\n",
    "    )\n",
    ")\n",
    "signers = [kp_payer]\n",
    "await cli.send_transaction(txn, *signers)\n"
   ]
  },
  {
   "cell_type": "code",
   "execution_count": 126,
   "metadata": {
    "pycharm": {
     "name": "#%%\n"
    }
   },
   "outputs": [
    {
     "ename": "RPCException",
     "evalue": "{'code': -32002, 'message': 'Transaction simulation failed: Error processing Instruction 0: custom program error: 0x1', 'data': {'accounts': None, 'err': {'InstructionError': [0, {'Custom': 1}]}, 'logs': ['Program TokenkegQfeZyiNwAJbNbGKPFXCWuBvf9Ss623VQ5DA invoke [1]', 'Program log: Instruction: TransferChecked', 'Program log: Error: insufficient funds', 'Program TokenkegQfeZyiNwAJbNbGKPFXCWuBvf9Ss623VQ5DA consumed 2827 of 1400000 compute units', 'Program TokenkegQfeZyiNwAJbNbGKPFXCWuBvf9Ss623VQ5DA failed: custom program error: 0x1'], 'unitsConsumed': 0}}",
     "output_type": "error",
     "traceback": [
      "\u001B[0;31m---------------------------------------------------------------------------\u001B[0m",
      "\u001B[0;31mRPCException\u001B[0m                              Traceback (most recent call last)",
      "\u001B[1;32m/Users/pavel/dev/discord-subscription-bot/devnet_mint_transfer.ipynb Cell 24'\u001B[0m in \u001B[0;36m<cell line: 17>\u001B[0;34m()\u001B[0m\n\u001B[1;32m      <a href='vscode-notebook-cell:/Users/pavel/dev/discord-subscription-bot/devnet_mint_transfer.ipynb#ch0000023?line=2'>3</a>\u001B[0m txn\u001B[39m.\u001B[39madd(\n\u001B[1;32m      <a href='vscode-notebook-cell:/Users/pavel/dev/discord-subscription-bot/devnet_mint_transfer.ipynb#ch0000023?line=3'>4</a>\u001B[0m     transfer_checked(\n\u001B[1;32m      <a href='vscode-notebook-cell:/Users/pavel/dev/discord-subscription-bot/devnet_mint_transfer.ipynb#ch0000023?line=4'>5</a>\u001B[0m         TransferCheckedParams(\n\u001B[0;32m   (...)\u001B[0m\n\u001B[1;32m     <a href='vscode-notebook-cell:/Users/pavel/dev/discord-subscription-bot/devnet_mint_transfer.ipynb#ch0000023?line=13'>14</a>\u001B[0m     )\n\u001B[1;32m     <a href='vscode-notebook-cell:/Users/pavel/dev/discord-subscription-bot/devnet_mint_transfer.ipynb#ch0000023?line=14'>15</a>\u001B[0m )\n\u001B[1;32m     <a href='vscode-notebook-cell:/Users/pavel/dev/discord-subscription-bot/devnet_mint_transfer.ipynb#ch0000023?line=15'>16</a>\u001B[0m signers \u001B[39m=\u001B[39m [kp_payer]\n\u001B[0;32m---> <a href='vscode-notebook-cell:/Users/pavel/dev/discord-subscription-bot/devnet_mint_transfer.ipynb#ch0000023?line=16'>17</a>\u001B[0m \u001B[39mawait\u001B[39;00m cli\u001B[39m.\u001B[39msend_transaction(txn, \u001B[39m*\u001B[39msigners)\n",
      "File \u001B[0;32m~/opt/anaconda3/envs/py310/lib/python3.10/site-packages/solana/rpc/async_api.py:1275\u001B[0m, in \u001B[0;36mAsyncClient.send_transaction\u001B[0;34m(self, txn, opts, recent_blockhash, *signers)\u001B[0m\n\u001B[1;32m   <a href='file:///Users/pavel/opt/anaconda3/envs/py310/lib/python3.10/site-packages/solana/rpc/async_api.py?line=1271'>1272</a>\u001B[0m txn\u001B[39m.\u001B[39mrecent_blockhash \u001B[39m=\u001B[39m recent_blockhash\n\u001B[1;32m   <a href='file:///Users/pavel/opt/anaconda3/envs/py310/lib/python3.10/site-packages/solana/rpc/async_api.py?line=1273'>1274</a>\u001B[0m txn\u001B[39m.\u001B[39msign(\u001B[39m*\u001B[39msigners)\n\u001B[0;32m-> <a href='file:///Users/pavel/opt/anaconda3/envs/py310/lib/python3.10/site-packages/solana/rpc/async_api.py?line=1274'>1275</a>\u001B[0m txn_resp \u001B[39m=\u001B[39m \u001B[39mawait\u001B[39;00m \u001B[39mself\u001B[39m\u001B[39m.\u001B[39msend_raw_transaction(txn\u001B[39m.\u001B[39mserialize(), opts\u001B[39m=\u001B[39mopts)\n\u001B[1;32m   <a href='file:///Users/pavel/opt/anaconda3/envs/py310/lib/python3.10/site-packages/solana/rpc/async_api.py?line=1275'>1276</a>\u001B[0m \u001B[39mif\u001B[39;00m \u001B[39mself\u001B[39m\u001B[39m.\u001B[39mblockhash_cache:\n\u001B[1;32m   <a href='file:///Users/pavel/opt/anaconda3/envs/py310/lib/python3.10/site-packages/solana/rpc/async_api.py?line=1276'>1277</a>\u001B[0m     blockhash_resp \u001B[39m=\u001B[39m \u001B[39mawait\u001B[39;00m \u001B[39mself\u001B[39m\u001B[39m.\u001B[39mget_recent_blockhash(Finalized)\n",
      "File \u001B[0;32m~/opt/anaconda3/envs/py310/lib/python3.10/site-packages/solana/rpc/async_api.py:1229\u001B[0m, in \u001B[0;36mAsyncClient.send_raw_transaction\u001B[0;34m(self, txn, opts)\u001B[0m\n\u001B[1;32m   <a href='file:///Users/pavel/opt/anaconda3/envs/py310/lib/python3.10/site-packages/solana/rpc/async_api.py?line=1226'>1227</a>\u001B[0m resp \u001B[39m=\u001B[39m \u001B[39mawait\u001B[39;00m \u001B[39mself\u001B[39m\u001B[39m.\u001B[39m_provider\u001B[39m.\u001B[39mmake_request(\u001B[39m*\u001B[39margs)\n\u001B[1;32m   <a href='file:///Users/pavel/opt/anaconda3/envs/py310/lib/python3.10/site-packages/solana/rpc/async_api.py?line=1227'>1228</a>\u001B[0m \u001B[39mif\u001B[39;00m opts\u001B[39m.\u001B[39mskip_confirmation:\n\u001B[0;32m-> <a href='file:///Users/pavel/opt/anaconda3/envs/py310/lib/python3.10/site-packages/solana/rpc/async_api.py?line=1228'>1229</a>\u001B[0m     \u001B[39mreturn\u001B[39;00m \u001B[39mself\u001B[39;49m\u001B[39m.\u001B[39;49m_post_send(resp)\n\u001B[1;32m   <a href='file:///Users/pavel/opt/anaconda3/envs/py310/lib/python3.10/site-packages/solana/rpc/async_api.py?line=1229'>1230</a>\u001B[0m post_send_args \u001B[39m=\u001B[39m \u001B[39mself\u001B[39m\u001B[39m.\u001B[39m_send_raw_transaction_post_send_args(resp, opts)\n\u001B[1;32m   <a href='file:///Users/pavel/opt/anaconda3/envs/py310/lib/python3.10/site-packages/solana/rpc/async_api.py?line=1230'>1231</a>\u001B[0m \u001B[39mreturn\u001B[39;00m \u001B[39mawait\u001B[39;00m \u001B[39mself\u001B[39m\u001B[39m.\u001B[39m__post_send_with_confirm(\u001B[39m*\u001B[39mpost_send_args)\n",
      "File \u001B[0;32m~/opt/anaconda3/envs/py310/lib/python3.10/site-packages/solana/rpc/core.py:418\u001B[0m, in \u001B[0;36m_ClientCore._post_send\u001B[0;34m(resp)\u001B[0m\n\u001B[1;32m    <a href='file:///Users/pavel/opt/anaconda3/envs/py310/lib/python3.10/site-packages/solana/rpc/core.py?line=415'>416</a>\u001B[0m error \u001B[39m=\u001B[39m resp\u001B[39m.\u001B[39mget(\u001B[39m\"\u001B[39m\u001B[39merror\u001B[39m\u001B[39m\"\u001B[39m)\n\u001B[1;32m    <a href='file:///Users/pavel/opt/anaconda3/envs/py310/lib/python3.10/site-packages/solana/rpc/core.py?line=416'>417</a>\u001B[0m \u001B[39mif\u001B[39;00m error:\n\u001B[0;32m--> <a href='file:///Users/pavel/opt/anaconda3/envs/py310/lib/python3.10/site-packages/solana/rpc/core.py?line=417'>418</a>\u001B[0m     \u001B[39mraise\u001B[39;00m RPCException(error)\n\u001B[1;32m    <a href='file:///Users/pavel/opt/anaconda3/envs/py310/lib/python3.10/site-packages/solana/rpc/core.py?line=418'>419</a>\u001B[0m \u001B[39mif\u001B[39;00m \u001B[39mnot\u001B[39;00m resp\u001B[39m.\u001B[39mget(\u001B[39m\"\u001B[39m\u001B[39mresult\u001B[39m\u001B[39m\"\u001B[39m):\n\u001B[1;32m    <a href='file:///Users/pavel/opt/anaconda3/envs/py310/lib/python3.10/site-packages/solana/rpc/core.py?line=419'>420</a>\u001B[0m     \u001B[39mraise\u001B[39;00m RPCNoResultException(\u001B[39m\"\u001B[39m\u001B[39mFailed to send transaction\u001B[39m\u001B[39m\"\u001B[39m)\n",
      "\u001B[0;31mRPCException\u001B[0m: {'code': -32002, 'message': 'Transaction simulation failed: Error processing Instruction 0: custom program error: 0x1', 'data': {'accounts': None, 'err': {'InstructionError': [0, {'Custom': 1}]}, 'logs': ['Program TokenkegQfeZyiNwAJbNbGKPFXCWuBvf9Ss623VQ5DA invoke [1]', 'Program log: Instruction: TransferChecked', 'Program log: Error: insufficient funds', 'Program TokenkegQfeZyiNwAJbNbGKPFXCWuBvf9Ss623VQ5DA consumed 2827 of 1400000 compute units', 'Program TokenkegQfeZyiNwAJbNbGKPFXCWuBvf9Ss623VQ5DA failed: custom program error: 0x1'], 'unitsConsumed': 0}}"
     ]
    }
   ],
   "source": [
    "\n",
    "txn = Transaction(fee_payer=kp_payer.public_key)\n",
    "\n",
    "txn.add(\n",
    "    transfer_checked(\n",
    "        TransferCheckedParams(\n",
    "            program_id=TOKEN_PROGRAM_ID,\n",
    "            source=get_associated_token_address(kp_payer.public_key, token.pubkey),\n",
    "            mint=token.pubkey,\n",
    "            dest=get_associated_token_address(kp_escrow.public_key, token.pubkey),\n",
    "            owner=kp_payer.public_key,\n",
    "            amount=12,\n",
    "            decimals=6\n",
    "        )\n",
    "    )\n",
    ")\n",
    "signers = [kp_payer]\n",
    "await cli.send_transaction(txn, *signers)\n",
    "\n",
    "# failed — too big amount"
   ]
  },
  {
   "cell_type": "code",
   "execution_count": 128,
   "metadata": {
    "pycharm": {
     "name": "#%%\n"
    }
   },
   "outputs": [
    {
     "data": {
      "text/plain": [
       "{'jsonrpc': '2.0',\n",
       " 'result': '2UCcqK3YLgFDcSQLXPJxzyHNwtcNcN7CU1VLZpAbMAb4KNPL84EwcHjdkCGDLBxeTjx6SFmp8nspHCgYosd5f33W',\n",
       " 'id': 165}"
      ]
     },
     "execution_count": 128,
     "metadata": {},
     "output_type": "execute_result"
    }
   ],
   "source": [
    "\n",
    "txn = Transaction(fee_payer=kp_payer.public_key)\n",
    "\n",
    "txn.add(\n",
    "    transfer_checked(\n",
    "        TransferCheckedParams(\n",
    "            program_id=TOKEN_PROGRAM_ID,\n",
    "            source=get_associated_token_address(kp_payer.public_key, token.pubkey),\n",
    "            mint=token.pubkey,\n",
    "            dest=get_associated_token_address(kp_escrow.public_key, token.pubkey),\n",
    "            owner=kp_payer.public_key,\n",
    "            amount=1,\n",
    "            decimals=6\n",
    "        )\n",
    "    )\n",
    ")\n",
    "\n",
    "txn.add(\n",
    "    transfer_checked(\n",
    "        TransferCheckedParams(\n",
    "            program_id=TOKEN_PROGRAM_ID,\n",
    "            source=get_associated_token_address(kp_payer.public_key, token.pubkey),\n",
    "            mint=token.pubkey,\n",
    "            dest=get_associated_token_address(kp_reciever.public_key, token.pubkey),\n",
    "            owner=kp_payer.public_key,\n",
    "            amount=1,\n",
    "            decimals=6\n",
    "        )\n",
    "    )\n",
    ")\n",
    "\n",
    "\n",
    "signers = [kp_payer]\n",
    "await cli.send_transaction(txn, *signers)\n",
    "\n"
   ]
  },
  {
   "cell_type": "code",
   "execution_count": 137,
   "metadata": {
    "pycharm": {
     "name": "#%%\n"
    }
   },
   "outputs": [
    {
     "data": {
      "text/plain": [
       "{'jsonrpc': '2.0',\n",
       " 'result': '2MurL5W6UWovyN99feGoyLobBWDCkJwqcyjKd2zXsMdniTnFtMbEGKcSVUpvi6ChRf2AjHtUyviQKPr1gcXeYGDB',\n",
       " 'id': 178}"
      ]
     },
     "execution_count": 137,
     "metadata": {},
     "output_type": "execute_result"
    }
   ],
   "source": [
    "# fee payer and owner are different\n",
    "\n",
    "txn = Transaction(fee_payer=kp_fee_payer.public_key)\n",
    "\n",
    "txn.add(\n",
    "    transfer_checked(\n",
    "        TransferCheckedParams(\n",
    "            program_id=TOKEN_PROGRAM_ID,\n",
    "            source=get_associated_token_address(kp_payer.public_key, token.pubkey),\n",
    "            mint=token.pubkey,\n",
    "            dest=get_associated_token_address(kp_escrow.public_key, token.pubkey),\n",
    "            owner=kp_payer.public_key,\n",
    "            amount=1,\n",
    "            decimals=6\n",
    "        )\n",
    "    )\n",
    ")\n",
    "signers = [kp_fee_payer, kp_payer]\n",
    "await cli.send_transaction(txn, *signers)\n",
    "\n"
   ]
  },
  {
   "cell_type": "code",
   "execution_count": 134,
   "metadata": {
    "pycharm": {
     "name": "#%%\n"
    }
   },
   "outputs": [
    {
     "data": {
      "text/plain": [
       "{'jsonrpc': '2.0',\n",
       " 'result': '5pxMLsXicC7scvE1b7cJcvwU3okRdW6vxs5s1LzTnmutdBavhsCaGbKSxzd8DCUm9n8aTpHNp2uxvd12HN5QUzME',\n",
       " 'id': 174}"
      ]
     },
     "execution_count": 134,
     "metadata": {},
     "output_type": "execute_result"
    }
   ],
   "source": [
    "\n",
    "txn = Transaction(fee_payer=kp_fee_payer.public_key)\n",
    "\n",
    "txn.add(\n",
    "    transfer_checked(\n",
    "        TransferCheckedParams(\n",
    "            program_id=TOKEN_PROGRAM_ID,\n",
    "            source=get_associated_token_address(kp_payer.public_key, token.pubkey),\n",
    "            mint=token.pubkey,\n",
    "            dest=get_associated_token_address(kp_escrow.public_key, token.pubkey),\n",
    "            owner=kp_payer.public_key,\n",
    "            amount=1,\n",
    "            decimals=6\n",
    "        )\n",
    "    )\n",
    ")\n",
    "\n",
    "txn.add(\n",
    "    transfer_checked(\n",
    "        TransferCheckedParams(\n",
    "            program_id=TOKEN_PROGRAM_ID,\n",
    "            source=get_associated_token_address(kp_payer.public_key, token.pubkey),\n",
    "            mint=token.pubkey,\n",
    "            dest=get_associated_token_address(kp_reciever.public_key, token.pubkey),\n",
    "            owner=kp_payer.public_key,\n",
    "            amount=1,\n",
    "            decimals=6\n",
    "        )\n",
    "    )\n",
    ")\n",
    "\n",
    "\n",
    "signers = [kp_fee_payer, kp_payer]\n",
    "await cli.send_transaction(txn, *signers)\n"
   ]
  },
  {
   "cell_type": "code",
   "execution_count": 142,
   "metadata": {
    "pycharm": {
     "name": "#%%\n"
    }
   },
   "outputs": [
    {
     "data": {
      "text/plain": [
       "{'jsonrpc': '2.0',\n",
       " 'result': 'FwCYYmvN85aNQCuYDQTrPqZmfb5gND3AeC1ajkeJusWNaqzNB7btzRPnwzfuNVrVaLsutKFSQFgMeJjano5iWu5',\n",
       " 'id': 188}"
      ]
     },
     "execution_count": 142,
     "metadata": {},
     "output_type": "execute_result"
    }
   ],
   "source": [
    "# from me to me\n",
    "\n",
    "\n",
    "txn = Transaction(fee_payer=kp_payer.public_key)\n",
    "\n",
    "txn.add(\n",
    "    transfer_checked(\n",
    "        TransferCheckedParams(\n",
    "            program_id=TOKEN_PROGRAM_ID,\n",
    "            source=get_associated_token_address(kp_payer.public_key, token.pubkey),\n",
    "            mint=token.pubkey,\n",
    "            dest=get_associated_token_address(kp_payer.public_key, token.pubkey),\n",
    "            owner=kp_payer.public_key,\n",
    "            amount=1,\n",
    "            decimals=6\n",
    "        )\n",
    "    )\n",
    ")\n",
    "signers = [kp_payer]\n",
    "await cli.send_transaction(txn, *signers)\n"
   ]
  },
  {
   "cell_type": "code",
   "execution_count": 143,
   "metadata": {
    "pycharm": {
     "name": "#%%\n"
    }
   },
   "outputs": [
    {
     "data": {
      "text/plain": [
       "<solana.transaction.Transaction at 0x7ff310b75ea0>"
      ]
     },
     "execution_count": 143,
     "metadata": {},
     "output_type": "execute_result"
    }
   ],
   "source": [
    "txn = Transaction(fee_payer=kp_fee_payer.public_key)\n",
    "\n",
    "txn.add(\n",
    "    transfer_checked(\n",
    "        TransferCheckedParams(\n",
    "            program_id=TOKEN_PROGRAM_ID,\n",
    "            source=get_associated_token_address(kp_payer.public_key, token.pubkey),\n",
    "            mint=token.pubkey,\n",
    "            dest=get_associated_token_address(kp_escrow.public_key, token.pubkey),\n",
    "            owner=kp_payer.public_key,\n",
    "            amount=1,\n",
    "            decimals=6\n",
    "        )\n",
    "    )\n",
    ")\n",
    "\n",
    "txn.add(\n",
    "    transfer_checked(\n",
    "        TransferCheckedParams(\n",
    "            program_id=TOKEN_PROGRAM_ID,\n",
    "            source=get_associated_token_address(kp_payer.public_key, token.pubkey),\n",
    "            mint=token.pubkey,\n",
    "            dest=get_associated_token_address(kp_reciever.public_key, token.pubkey),\n",
    "            owner=kp_payer.public_key,\n",
    "            amount=1,\n",
    "            decimals=6\n",
    "        )\n",
    "    )\n",
    ")\n",
    "\n",
    "txn"
   ]
  },
  {
   "cell_type": "code",
   "execution_count": null,
   "metadata": {
    "pycharm": {
     "name": "#%%\n"
    }
   },
   "outputs": [],
   "source": []
  }
 ],
 "metadata": {
  "interpreter": {
   "hash": "25ae392fe4de71da622a195db60a56961f2ec828412556c8573aa702380772d1"
  },
  "kernelspec": {
   "display_name": "Python 3.10.4 ('py310')",
   "language": "python",
   "name": "python3"
  },
  "language_info": {
   "codemirror_mode": {
    "name": "ipython",
    "version": 3
   },
   "file_extension": ".py",
   "mimetype": "text/x-python",
   "name": "python",
   "nbconvert_exporter": "python",
   "pygments_lexer": "ipython3",
   "version": "3.10.4"
  },
  "orig_nbformat": 4
 },
 "nbformat": 4,
 "nbformat_minor": 2
}